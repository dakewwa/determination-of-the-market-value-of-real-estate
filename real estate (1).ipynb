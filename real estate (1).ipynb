{
 "cells": [
  {
   "cell_type": "markdown",
   "metadata": {
    "id": "-VFbjcb3Awb7"
   },
   "source": [
    "# Исследование объявлений о продаже квартир\n",
    "\n",
    "В вашем распоряжении данные сервиса Яндекс Недвижимость — архив объявлений о продаже квартир в Санкт-Петербурге и соседних населённых пунктах за несколько лет. Вам нужно научиться определять рыночную стоимость объектов недвижимости. Для этого проведите исследовательский анализ данных и установите параметры, влияющие на цену объектов. Это позволит построить автоматизированную систему: она отследит аномалии и мошенническую деятельность.\n",
    "\n",
    "По каждой квартире на продажу доступны два вида данных. Первые вписаны пользователем, вторые — получены автоматически на основе картографических данных. Например, расстояние до центра, аэропорта и других объектов — эти данные автоматически получены из геосервисов. Количество парков и водоёмов также заполняется без участия пользователя."
   ]
  },
  {
   "cell_type": "markdown",
   "metadata": {
    "id": "aeFLH07FAwb9"
   },
   "source": [
    "### Откройте файл с данными и изучите общую информацию"
   ]
  },
  {
   "cell_type": "code",
   "execution_count": 1,
   "metadata": {},
   "outputs": [],
   "source": [
    "# Импортирую библиотеки в отдельной ячейке\n",
    "import pandas as pd\n",
    "import matplotlib.pyplot as plt\n",
    "import seaborn as sns"
   ]
  },
  {
   "cell_type": "code",
   "execution_count": 2,
   "metadata": {
    "id": "7MZxY65pAwb9",
    "scrolled": true
   },
   "outputs": [
    {
     "name": "stdout",
     "output_type": "stream",
     "text": [
      "   total_images  last_price  total_area first_day_exposition  rooms  \\\n",
      "0            20  13000000.0      108.00  2019-03-07T00:00:00      3   \n",
      "1             7   3350000.0       40.40  2018-12-04T00:00:00      1   \n",
      "2            10   5196000.0       56.00  2015-08-20T00:00:00      2   \n",
      "3             0  64900000.0      159.00  2015-07-24T00:00:00      3   \n",
      "4             2  10000000.0      100.00  2018-06-19T00:00:00      2   \n",
      "5            10   2890000.0       30.40  2018-09-10T00:00:00      1   \n",
      "6             6   3700000.0       37.30  2017-11-02T00:00:00      1   \n",
      "7             5   7915000.0       71.60  2019-04-18T00:00:00      2   \n",
      "8            20   2900000.0       33.16  2018-05-23T00:00:00      1   \n",
      "9            18   5400000.0       61.00  2017-02-26T00:00:00      3   \n",
      "\n",
      "   ceiling_height  floors_total  living_area  floor is_apartment  ...  \\\n",
      "0            2.70          16.0        51.00      8          NaN  ...   \n",
      "1             NaN          11.0        18.60      1          NaN  ...   \n",
      "2             NaN           5.0        34.30      4          NaN  ...   \n",
      "3             NaN          14.0          NaN      9          NaN  ...   \n",
      "4            3.03          14.0        32.00     13          NaN  ...   \n",
      "5             NaN          12.0        14.40      5          NaN  ...   \n",
      "6             NaN          26.0        10.60      6          NaN  ...   \n",
      "7             NaN          24.0          NaN     22          NaN  ...   \n",
      "8             NaN          27.0        15.43     26          NaN  ...   \n",
      "9            2.50           9.0        43.60      7          NaN  ...   \n",
      "\n",
      "   kitchen_area  balcony              locality_name  airports_nearest  \\\n",
      "0         25.00      NaN            Санкт-Петербург           18863.0   \n",
      "1         11.00      2.0             посёлок Шушары           12817.0   \n",
      "2          8.30      0.0            Санкт-Петербург           21741.0   \n",
      "3           NaN      0.0            Санкт-Петербург           28098.0   \n",
      "4         41.00      NaN            Санкт-Петербург           31856.0   \n",
      "5          9.10      NaN  городской посёлок Янино-1               NaN   \n",
      "6         14.40      1.0          посёлок Парголово           52996.0   \n",
      "7         18.90      2.0            Санкт-Петербург           23982.0   \n",
      "8          8.81      NaN             посёлок Мурино               NaN   \n",
      "9          6.50      2.0            Санкт-Петербург           50898.0   \n",
      "\n",
      "  cityCenters_nearest  parks_around3000  parks_nearest  ponds_around3000  \\\n",
      "0             16028.0               1.0          482.0               2.0   \n",
      "1             18603.0               0.0            NaN               0.0   \n",
      "2             13933.0               1.0           90.0               2.0   \n",
      "3              6800.0               2.0           84.0               3.0   \n",
      "4              8098.0               2.0          112.0               1.0   \n",
      "5                 NaN               NaN            NaN               NaN   \n",
      "6             19143.0               0.0            NaN               0.0   \n",
      "7             11634.0               0.0            NaN               0.0   \n",
      "8                 NaN               NaN            NaN               NaN   \n",
      "9             15008.0               0.0            NaN               0.0   \n",
      "\n",
      "   ponds_nearest  days_exposition  \n",
      "0          755.0              NaN  \n",
      "1            NaN             81.0  \n",
      "2          574.0            558.0  \n",
      "3          234.0            424.0  \n",
      "4           48.0            121.0  \n",
      "5            NaN             55.0  \n",
      "6            NaN            155.0  \n",
      "7            NaN              NaN  \n",
      "8            NaN            189.0  \n",
      "9            NaN            289.0  \n",
      "\n",
      "[10 rows x 22 columns]\n",
      "<class 'pandas.core.frame.DataFrame'>\n",
      "RangeIndex: 23699 entries, 0 to 23698\n",
      "Data columns (total 22 columns):\n",
      " #   Column                Non-Null Count  Dtype  \n",
      "---  ------                --------------  -----  \n",
      " 0   total_images          23699 non-null  int64  \n",
      " 1   last_price            23699 non-null  float64\n",
      " 2   total_area            23699 non-null  float64\n",
      " 3   first_day_exposition  23699 non-null  object \n",
      " 4   rooms                 23699 non-null  int64  \n",
      " 5   ceiling_height        14504 non-null  float64\n",
      " 6   floors_total          23613 non-null  float64\n",
      " 7   living_area           21796 non-null  float64\n",
      " 8   floor                 23699 non-null  int64  \n",
      " 9   is_apartment          2775 non-null   object \n",
      " 10  studio                23699 non-null  bool   \n",
      " 11  open_plan             23699 non-null  bool   \n",
      " 12  kitchen_area          21421 non-null  float64\n",
      " 13  balcony               12180 non-null  float64\n",
      " 14  locality_name         23650 non-null  object \n",
      " 15  airports_nearest      18157 non-null  float64\n",
      " 16  cityCenters_nearest   18180 non-null  float64\n",
      " 17  parks_around3000      18181 non-null  float64\n",
      " 18  parks_nearest         8079 non-null   float64\n",
      " 19  ponds_around3000      18181 non-null  float64\n",
      " 20  ponds_nearest         9110 non-null   float64\n",
      " 21  days_exposition       20518 non-null  float64\n",
      "dtypes: bool(2), float64(14), int64(3), object(3)\n",
      "memory usage: 3.7+ MB\n",
      "None\n"
     ]
    },
    {
     "data": {
      "image/png": "[encoded data removed]",
      "text/plain": [
       "<Figure size 1080x1440 with 20 Axes>"
      ]
     },
     "metadata": {
      "needs_background": "light"
     },
     "output_type": "display_data"
    }
   ],
   "source": [
    "# После выведения первых 10 строк видим что данные склеились, следовательно разделяем знаком табуляции\n",
    "data = pd.read_csv('/datasets/real_estate_data.csv', sep='\\t')\n",
    "print(data.head(10))\n",
    "print(data.info())\n",
    "\n",
    "# По информации видно что датафрейм имеет пропуски\n",
    "# Строим гистограммы\n",
    "data.hist(figsize=(15, 20));"
   ]
  },
  {
   "cell_type": "code",
   "execution_count": 3,
   "metadata": {},
   "outputs": [
    {
     "data": {
      "text/html": [
       "<div>\n",
       "<style scoped>\n",
       "    .dataframe tbody tr th:only-of-type {\n",
       "        vertical-align: middle;\n",
       "    }\n",
       "\n",
       "    .dataframe tbody tr th {\n",
       "        vertical-align: top;\n",
       "    }\n",
       "\n",
       "    .dataframe thead th {\n",
       "        text-align: right;\n",
       "    }\n",
       "</style>\n",
       "<table border=\"1\" class=\"dataframe\">\n",
       "  <thead>\n",
       "    <tr style=\"text-align: right;\">\n",
       "      <th></th>\n",
       "      <th>total_images</th>\n",
       "      <th>last_price</th>\n",
       "      <th>total_area</th>\n",
       "      <th>first_day_exposition</th>\n",
       "      <th>rooms</th>\n",
       "      <th>ceiling_height</th>\n",
       "      <th>floors_total</th>\n",
       "      <th>living_area</th>\n",
       "      <th>floor</th>\n",
       "      <th>is_apartment</th>\n",
       "      <th>...</th>\n",
       "      <th>kitchen_area</th>\n",
       "      <th>balcony</th>\n",
       "      <th>locality_name</th>\n",
       "      <th>airports_nearest</th>\n",
       "      <th>cityCenters_nearest</th>\n",
       "      <th>parks_around3000</th>\n",
       "      <th>parks_nearest</th>\n",
       "      <th>ponds_around3000</th>\n",
       "      <th>ponds_nearest</th>\n",
       "      <th>days_exposition</th>\n",
       "    </tr>\n",
       "  </thead>\n",
       "  <tbody>\n",
       "    <tr>\n",
       "      <th>0</th>\n",
       "      <td>20</td>\n",
       "      <td>13000000.0</td>\n",
       "      <td>108.00</td>\n",
       "      <td>2019-03-07T00:00:00</td>\n",
       "      <td>3</td>\n",
       "      <td>2.70</td>\n",
       "      <td>16.0</td>\n",
       "      <td>51.0</td>\n",
       "      <td>8</td>\n",
       "      <td>NaN</td>\n",
       "      <td>...</td>\n",
       "      <td>25.00</td>\n",
       "      <td>NaN</td>\n",
       "      <td>Санкт-Петербург</td>\n",
       "      <td>18863.0</td>\n",
       "      <td>16028.0</td>\n",
       "      <td>1.0</td>\n",
       "      <td>482.0</td>\n",
       "      <td>2.0</td>\n",
       "      <td>755.0</td>\n",
       "      <td>NaN</td>\n",
       "    </tr>\n",
       "    <tr>\n",
       "      <th>1</th>\n",
       "      <td>7</td>\n",
       "      <td>3350000.0</td>\n",
       "      <td>40.40</td>\n",
       "      <td>2018-12-04T00:00:00</td>\n",
       "      <td>1</td>\n",
       "      <td>NaN</td>\n",
       "      <td>11.0</td>\n",
       "      <td>18.6</td>\n",
       "      <td>1</td>\n",
       "      <td>NaN</td>\n",
       "      <td>...</td>\n",
       "      <td>11.00</td>\n",
       "      <td>2.0</td>\n",
       "      <td>посёлок Шушары</td>\n",
       "      <td>12817.0</td>\n",
       "      <td>18603.0</td>\n",
       "      <td>0.0</td>\n",
       "      <td>NaN</td>\n",
       "      <td>0.0</td>\n",
       "      <td>NaN</td>\n",
       "      <td>81.0</td>\n",
       "    </tr>\n",
       "    <tr>\n",
       "      <th>2</th>\n",
       "      <td>10</td>\n",
       "      <td>5196000.0</td>\n",
       "      <td>56.00</td>\n",
       "      <td>2015-08-20T00:00:00</td>\n",
       "      <td>2</td>\n",
       "      <td>NaN</td>\n",
       "      <td>5.0</td>\n",
       "      <td>34.3</td>\n",
       "      <td>4</td>\n",
       "      <td>NaN</td>\n",
       "      <td>...</td>\n",
       "      <td>8.30</td>\n",
       "      <td>0.0</td>\n",
       "      <td>Санкт-Петербург</td>\n",
       "      <td>21741.0</td>\n",
       "      <td>13933.0</td>\n",
       "      <td>1.0</td>\n",
       "      <td>90.0</td>\n",
       "      <td>2.0</td>\n",
       "      <td>574.0</td>\n",
       "      <td>558.0</td>\n",
       "    </tr>\n",
       "    <tr>\n",
       "      <th>3</th>\n",
       "      <td>0</td>\n",
       "      <td>64900000.0</td>\n",
       "      <td>159.00</td>\n",
       "      <td>2015-07-24T00:00:00</td>\n",
       "      <td>3</td>\n",
       "      <td>NaN</td>\n",
       "      <td>14.0</td>\n",
       "      <td>NaN</td>\n",
       "      <td>9</td>\n",
       "      <td>NaN</td>\n",
       "      <td>...</td>\n",
       "      <td>NaN</td>\n",
       "      <td>0.0</td>\n",
       "      <td>Санкт-Петербург</td>\n",
       "      <td>28098.0</td>\n",
       "      <td>6800.0</td>\n",
       "      <td>2.0</td>\n",
       "      <td>84.0</td>\n",
       "      <td>3.0</td>\n",
       "      <td>234.0</td>\n",
       "      <td>424.0</td>\n",
       "    </tr>\n",
       "    <tr>\n",
       "      <th>4</th>\n",
       "      <td>2</td>\n",
       "      <td>10000000.0</td>\n",
       "      <td>100.00</td>\n",
       "      <td>2018-06-19T00:00:00</td>\n",
       "      <td>2</td>\n",
       "      <td>3.03</td>\n",
       "      <td>14.0</td>\n",
       "      <td>32.0</td>\n",
       "      <td>13</td>\n",
       "      <td>NaN</td>\n",
       "      <td>...</td>\n",
       "      <td>41.00</td>\n",
       "      <td>NaN</td>\n",
       "      <td>Санкт-Петербург</td>\n",
       "      <td>31856.0</td>\n",
       "      <td>8098.0</td>\n",
       "      <td>2.0</td>\n",
       "      <td>112.0</td>\n",
       "      <td>1.0</td>\n",
       "      <td>48.0</td>\n",
       "      <td>121.0</td>\n",
       "    </tr>\n",
       "    <tr>\n",
       "      <th>...</th>\n",
       "      <td>...</td>\n",
       "      <td>...</td>\n",
       "      <td>...</td>\n",
       "      <td>...</td>\n",
       "      <td>...</td>\n",
       "      <td>...</td>\n",
       "      <td>...</td>\n",
       "      <td>...</td>\n",
       "      <td>...</td>\n",
       "      <td>...</td>\n",
       "      <td>...</td>\n",
       "      <td>...</td>\n",
       "      <td>...</td>\n",
       "      <td>...</td>\n",
       "      <td>...</td>\n",
       "      <td>...</td>\n",
       "      <td>...</td>\n",
       "      <td>...</td>\n",
       "      <td>...</td>\n",
       "      <td>...</td>\n",
       "      <td>...</td>\n",
       "    </tr>\n",
       "    <tr>\n",
       "      <th>23694</th>\n",
       "      <td>9</td>\n",
       "      <td>9700000.0</td>\n",
       "      <td>133.81</td>\n",
       "      <td>2017-03-21T00:00:00</td>\n",
       "      <td>3</td>\n",
       "      <td>3.70</td>\n",
       "      <td>5.0</td>\n",
       "      <td>73.3</td>\n",
       "      <td>3</td>\n",
       "      <td>NaN</td>\n",
       "      <td>...</td>\n",
       "      <td>13.83</td>\n",
       "      <td>NaN</td>\n",
       "      <td>Санкт-Петербург</td>\n",
       "      <td>24665.0</td>\n",
       "      <td>4232.0</td>\n",
       "      <td>1.0</td>\n",
       "      <td>796.0</td>\n",
       "      <td>3.0</td>\n",
       "      <td>381.0</td>\n",
       "      <td>NaN</td>\n",
       "    </tr>\n",
       "    <tr>\n",
       "      <th>23695</th>\n",
       "      <td>14</td>\n",
       "      <td>3100000.0</td>\n",
       "      <td>59.00</td>\n",
       "      <td>2018-01-15T00:00:00</td>\n",
       "      <td>3</td>\n",
       "      <td>NaN</td>\n",
       "      <td>5.0</td>\n",
       "      <td>38.0</td>\n",
       "      <td>4</td>\n",
       "      <td>NaN</td>\n",
       "      <td>...</td>\n",
       "      <td>8.50</td>\n",
       "      <td>NaN</td>\n",
       "      <td>Тосно</td>\n",
       "      <td>NaN</td>\n",
       "      <td>NaN</td>\n",
       "      <td>NaN</td>\n",
       "      <td>NaN</td>\n",
       "      <td>NaN</td>\n",
       "      <td>NaN</td>\n",
       "      <td>45.0</td>\n",
       "    </tr>\n",
       "    <tr>\n",
       "      <th>23696</th>\n",
       "      <td>18</td>\n",
       "      <td>2500000.0</td>\n",
       "      <td>56.70</td>\n",
       "      <td>2018-02-11T00:00:00</td>\n",
       "      <td>2</td>\n",
       "      <td>NaN</td>\n",
       "      <td>3.0</td>\n",
       "      <td>29.7</td>\n",
       "      <td>1</td>\n",
       "      <td>NaN</td>\n",
       "      <td>...</td>\n",
       "      <td>NaN</td>\n",
       "      <td>NaN</td>\n",
       "      <td>село Рождествено</td>\n",
       "      <td>NaN</td>\n",
       "      <td>NaN</td>\n",
       "      <td>NaN</td>\n",
       "      <td>NaN</td>\n",
       "      <td>NaN</td>\n",
       "      <td>NaN</td>\n",
       "      <td>NaN</td>\n",
       "    </tr>\n",
       "    <tr>\n",
       "      <th>23697</th>\n",
       "      <td>13</td>\n",
       "      <td>11475000.0</td>\n",
       "      <td>76.75</td>\n",
       "      <td>2017-03-28T00:00:00</td>\n",
       "      <td>2</td>\n",
       "      <td>3.00</td>\n",
       "      <td>17.0</td>\n",
       "      <td>NaN</td>\n",
       "      <td>12</td>\n",
       "      <td>NaN</td>\n",
       "      <td>...</td>\n",
       "      <td>23.30</td>\n",
       "      <td>2.0</td>\n",
       "      <td>Санкт-Петербург</td>\n",
       "      <td>39140.0</td>\n",
       "      <td>10364.0</td>\n",
       "      <td>2.0</td>\n",
       "      <td>173.0</td>\n",
       "      <td>3.0</td>\n",
       "      <td>196.0</td>\n",
       "      <td>602.0</td>\n",
       "    </tr>\n",
       "    <tr>\n",
       "      <th>23698</th>\n",
       "      <td>4</td>\n",
       "      <td>1350000.0</td>\n",
       "      <td>32.30</td>\n",
       "      <td>2017-07-21T00:00:00</td>\n",
       "      <td>1</td>\n",
       "      <td>2.50</td>\n",
       "      <td>5.0</td>\n",
       "      <td>12.3</td>\n",
       "      <td>1</td>\n",
       "      <td>NaN</td>\n",
       "      <td>...</td>\n",
       "      <td>9.00</td>\n",
       "      <td>NaN</td>\n",
       "      <td>поселок Новый Учхоз</td>\n",
       "      <td>NaN</td>\n",
       "      <td>NaN</td>\n",
       "      <td>NaN</td>\n",
       "      <td>NaN</td>\n",
       "      <td>NaN</td>\n",
       "      <td>NaN</td>\n",
       "      <td>NaN</td>\n",
       "    </tr>\n",
       "  </tbody>\n",
       "</table>\n",
       "<p>23699 rows × 22 columns</p>\n",
       "</div>"
      ],
      "text/plain": [
       "       total_images  last_price  total_area first_day_exposition  rooms  \\\n",
       "0                20  13000000.0      108.00  2019-03-07T00:00:00      3   \n",
       "1                 7   3350000.0       40.40  2018-12-04T00:00:00      1   \n",
       "2                10   5196000.0       56.00  2015-08-20T00:00:00      2   \n",
       "3                 0  64900000.0      159.00  2015-07-24T00:00:00      3   \n",
       "4                 2  10000000.0      100.00  2018-06-19T00:00:00      2   \n",
       "...             ...         ...         ...                  ...    ...   \n",
       "23694             9   9700000.0      133.81  2017-03-21T00:00:00      3   \n",
       "23695            14   3100000.0       59.00  2018-01-15T00:00:00      3   \n",
       "23696            18   2500000.0       56.70  2018-02-11T00:00:00      2   \n",
       "23697            13  11475000.0       76.75  2017-03-28T00:00:00      2   \n",
       "23698             4   1350000.0       32.30  2017-07-21T00:00:00      1   \n",
       "\n",
       "       ceiling_height  floors_total  living_area  floor is_apartment  ...  \\\n",
       "0                2.70          16.0         51.0      8          NaN  ...   \n",
       "1                 NaN          11.0         18.6      1          NaN  ...   \n",
       "2                 NaN           5.0         34.3      4          NaN  ...   \n",
       "3                 NaN          14.0          NaN      9          NaN  ...   \n",
       "4                3.03          14.0         32.0     13          NaN  ...   \n",
       "...               ...           ...          ...    ...          ...  ...   \n",
       "23694            3.70           5.0         73.3      3          NaN  ...   \n",
       "23695             NaN           5.0         38.0      4          NaN  ...   \n",
       "23696             NaN           3.0         29.7      1          NaN  ...   \n",
       "23697            3.00          17.0          NaN     12          NaN  ...   \n",
       "23698            2.50           5.0         12.3      1          NaN  ...   \n",
       "\n",
       "       kitchen_area  balcony        locality_name  airports_nearest  \\\n",
       "0             25.00      NaN      Санкт-Петербург           18863.0   \n",
       "1             11.00      2.0       посёлок Шушары           12817.0   \n",
       "2              8.30      0.0      Санкт-Петербург           21741.0   \n",
       "3               NaN      0.0      Санкт-Петербург           28098.0   \n",
       "4             41.00      NaN      Санкт-Петербург           31856.0   \n",
       "...             ...      ...                  ...               ...   \n",
       "23694         13.83      NaN      Санкт-Петербург           24665.0   \n",
       "23695          8.50      NaN                Тосно               NaN   \n",
       "23696           NaN      NaN     село Рождествено               NaN   \n",
       "23697         23.30      2.0      Санкт-Петербург           39140.0   \n",
       "23698          9.00      NaN  поселок Новый Учхоз               NaN   \n",
       "\n",
       "      cityCenters_nearest  parks_around3000  parks_nearest  ponds_around3000  \\\n",
       "0                 16028.0               1.0          482.0               2.0   \n",
       "1                 18603.0               0.0            NaN               0.0   \n",
       "2                 13933.0               1.0           90.0               2.0   \n",
       "3                  6800.0               2.0           84.0               3.0   \n",
       "4                  8098.0               2.0          112.0               1.0   \n",
       "...                   ...               ...            ...               ...   \n",
       "23694              4232.0               1.0          796.0               3.0   \n",
       "23695                 NaN               NaN            NaN               NaN   \n",
       "23696                 NaN               NaN            NaN               NaN   \n",
       "23697             10364.0               2.0          173.0               3.0   \n",
       "23698                 NaN               NaN            NaN               NaN   \n",
       "\n",
       "       ponds_nearest  days_exposition  \n",
       "0              755.0              NaN  \n",
       "1                NaN             81.0  \n",
       "2              574.0            558.0  \n",
       "3              234.0            424.0  \n",
       "4               48.0            121.0  \n",
       "...              ...              ...  \n",
       "23694          381.0              NaN  \n",
       "23695            NaN             45.0  \n",
       "23696            NaN              NaN  \n",
       "23697          196.0            602.0  \n",
       "23698            NaN              NaN  \n",
       "\n",
       "[23699 rows x 22 columns]"
      ]
     },
     "metadata": {},
     "output_type": "display_data"
    }
   ],
   "source": [
    "display(data)"
   ]
  },
  {
   "cell_type": "markdown",
   "metadata": {},
   "source": [
    "Были обнаружены пропущенные значения в столбцах living_area, kitchen_area, locality_name, airports_nearest, cityCenters_nearest, parks_nearest, ponds_nearest и days_exposition. Пропуски в этих данных могут повлиять на точность исследования, и их обработка может потребоваться для дальнейшего анализа. Столбец first_day_exposition имеет тип данных datetime64, что является корректным для работы с датами. Однако, стоит убедиться, что все операции с датами выполняются корректно.Были выявлены выбросы и аномалии в таких параметрах, как ceiling_height, rooms и last_price. Некоторые значения кажутся необычно высокими или низкими и могут потребовать дополнительного исследования. Отсутствуют явные дубликаты в данных, но стоит проверить уникальные номера объектов недвижимости на возможные дубликаты для точности анализа.\" В столбце balcony обнаружены значения вещественного типа, хотя они представляют собой категориальную переменную (количество балконов). Следует привести этот столбец к целочисленному типу данных.\n",
    "Для дальнейшего анализа необходимо провести предобработку данных, включая обработку пропусков, работу с выбросами и аномалиями, а также проверку типов данных для обеспечения корректности исследования."
   ]
  },
  {
   "cell_type": "markdown",
   "metadata": {
    "id": "-O5NtivEAwb9"
   },
   "source": [
    "### Выполните предобработку данных"
   ]
  },
  {
   "cell_type": "code",
   "execution_count": 4,
   "metadata": {
    "id": "7v3vAeTuAwb-"
   },
   "outputs": [
    {
     "data": {
      "text/plain": [
       "total_images                0\n",
       "last_price                  0\n",
       "total_area                  0\n",
       "first_day_exposition        0\n",
       "rooms                       0\n",
       "ceiling_height           9195\n",
       "floors_total               86\n",
       "living_area              1903\n",
       "floor                       0\n",
       "is_apartment            20924\n",
       "studio                      0\n",
       "open_plan                   0\n",
       "kitchen_area             2278\n",
       "balcony                 11519\n",
       "locality_name              49\n",
       "airports_nearest         5542\n",
       "cityCenters_nearest      5519\n",
       "parks_around3000         5518\n",
       "parks_nearest           15620\n",
       "ponds_around3000         5518\n",
       "ponds_nearest           14589\n",
       "days_exposition          3181\n",
       "dtype: int64"
      ]
     },
     "execution_count": 4,
     "metadata": {},
     "output_type": "execute_result"
    }
   ],
   "source": [
    "# Проверяем пропуски и их количество\n",
    "data.isnull().sum()"
   ]
  },
  {
   "cell_type": "markdown",
   "metadata": {},
   "source": [
    "Всего мы видим пропуски в 14 столбцах. В таких столбцах как 'balcony', 'parks_around3000', 'ponds_around3000' пропускные значения мы заменим на 0, так как скорее всего, если они не указаны значит их нет. Судя по первым строкам столбца 'ceiling_height' там нет значительных выбросов значит вместо пропусков я использую среднее значение. Для столбца 'floors_total' я буду использовать медиану, так как количество пропущенных значений невелико и распределение этого столбца не слишком искажено выбросами. Пропуски в столбцах 'locality_name', 'days_exposition', 'living_area' и 'kitchen_area' я пропущу. Для стобцов 'living_area' и 'kitchen_area' пропуски я пропущу, потому что есть риск, заполнив их медианами/средними и т.п., исказить дальнейшие выводы о стоимости квадратного метра в тех или иных районах. Пропуски в таких столбцах как 'airports_nearest', 'cityCenters_nearest', 'parks_nearest', 'ponds_nearest' я также пропущу, так как это может внести искажение в анализ."
   ]
  },
  {
   "cell_type": "code",
   "execution_count": 5,
   "metadata": {},
   "outputs": [],
   "source": [
    "# Замена пропущенных значений на 0\n",
    "columns_to_zero = ['balcony', 'parks_around3000', 'ponds_around3000']\n",
    "\n",
    "data[columns_to_zero] = data[columns_to_zero].fillna(0)"
   ]
  },
  {
   "cell_type": "markdown",
   "metadata": {},
   "source": [
    "Я задумалась перед выбором между медианой и средним значением для пропусков в столбец 'ceiling_height'и 'floors_total' и решила проверить максимальное и минимальное значение что выдало 1 и 100 и 1 и 60 это значит что есть выбросы или ошибка в данных. Для этого решила использовать boxplot. Следовательно при виде выброосов, я буду использовать медианные значения."
   ]
  },
  {
   "cell_type": "code",
   "execution_count": 6,
   "metadata": {},
   "outputs": [
    {
     "name": "stdout",
     "output_type": "stream",
     "text": [
      "1.0\n",
      "100.0\n"
     ]
    },
    {
     "data": {
      "image/png": "[encoded data removed]",
      "text/plain": [
       "<Figure size 432x288 with 1 Axes>"
      ]
     },
     "metadata": {
      "needs_background": "light"
     },
     "output_type": "display_data"
    },
    {
     "name": "stdout",
     "output_type": "stream",
     "text": [
      "1.0\n",
      "60.0\n"
     ]
    },
    {
     "data": {
      "image/png": "[encoded data removed]",
      "text/plain": [
       "<Figure size 432x288 with 1 Axes>"
      ]
     },
     "metadata": {
      "needs_background": "light"
     },
     "output_type": "display_data"
    }
   ],
   "source": [
    "# Замена пропущенных значений на среднее значение\n",
    "# ceiling_height_mean = data['ceiling_height'].mean()\n",
    "# data['ceiling_height'].fillna(ceiling_height_mean, inplace=True)\n",
    "\n",
    "print(data['ceiling_height'].min())\n",
    "print(data['ceiling_height'].max())\n",
    "\n",
    "# Построение ящика с усами для столбца 'ceiling_height'\n",
    "sns.boxplot(x=data['ceiling_height'])\n",
    "plt.title('Boxplot of Ceiling Height')\n",
    "plt.show()\n",
    "\n",
    "print(data['floors_total'].min())\n",
    "print(data['floors_total'].max())\n",
    "\n",
    "sns.boxplot(x=data['floors_total'])\n",
    "plt.title('Boxplot of Floors Total')\n",
    "plt.show()\n"
   ]
  },
  {
   "cell_type": "code",
   "execution_count": 7,
   "metadata": {},
   "outputs": [],
   "source": [
    "# Нахождение медианы высоты потолка\n",
    "#median_ceiling_height = data['ceiling_height'].median()\n",
    "#data['ceiling_height'].fillna(median_ceiling_height, inplace=True)\n",
    "\n",
    "# Нахождение медианы для столбца 'floors_total'\n",
    "#median_floors_total = data['floors_total'].median()\n",
    "#data['floors_total'].fillna(median_floors_total, inplace=True)\n"
   ]
  },
  {
   "cell_type": "code",
   "execution_count": 8,
   "metadata": {},
   "outputs": [],
   "source": [
    "# Упрощаем \n",
    "# Список столбцов для замены медианой\n",
    "columns_to_replace_with_median = ['ceiling_height']\n",
    "\n",
    "# Замена пропущенных значений на медиану для указанных столбцов\n",
    "for column in columns_to_replace_with_median:\n",
    "    median_value = data[column].median()\n",
    "    data[column].fillna(median_value, inplace=True)\n",
    "\n",
    "# Заменим пропууски в столбце is_apartment на False, полагаясь на то что если данные не указаны значит они не относятся к апартаментам.\n",
    "data['is_apartment'].fillna(False, inplace=True)\n",
    "\n",
    "# После замены пропускох проверяем \n",
    "#data.isnull().sum()"
   ]
  },
  {
   "cell_type": "code",
   "execution_count": 9,
   "metadata": {},
   "outputs": [
    {
     "data": {
      "text/plain": [
       "total_images                0\n",
       "last_price                  0\n",
       "total_area                  0\n",
       "first_day_exposition        0\n",
       "rooms                       0\n",
       "ceiling_height              0\n",
       "floors_total                1\n",
       "living_area              1903\n",
       "floor                       0\n",
       "is_apartment                0\n",
       "studio                      0\n",
       "open_plan                   0\n",
       "kitchen_area             2278\n",
       "balcony                     0\n",
       "locality_name              49\n",
       "airports_nearest         5542\n",
       "cityCenters_nearest      5519\n",
       "parks_around3000            0\n",
       "parks_nearest           15620\n",
       "ponds_around3000            0\n",
       "ponds_nearest           14589\n",
       "days_exposition          3181\n",
       "dtype: int64"
      ]
     },
     "execution_count": 9,
     "metadata": {},
     "output_type": "execute_result"
    }
   ],
   "source": [
    "# Группируем данные по населенному пункту и вычисляем медиану этажа в доме\n",
    "median_floors_by_locality = data.groupby('locality_name')['floors_total'].median()\n",
    "\n",
    "# Заменяем пропущенные значения в столбце floors_total\n",
    "def replace_missing_floors(row):\n",
    "    locality = row['locality_name']\n",
    "    floors_total = row['floors_total']\n",
    "    \n",
    "    if pd.isnull(locality):\n",
    "        return floors_total\n",
    "    elif pd.isnull(floors_total) or floors_total > median_floors_by_locality.get(locality, floors_total):\n",
    "        return median_floors_by_locality.get(locality, floors_total)\n",
    "    else:\n",
    "        return floors_total\n",
    "\n",
    "data['floors_total'] = data.apply(replace_missing_floors, axis=1)\n",
    "data.isnull().sum()"
   ]
  },
  {
   "cell_type": "code",
   "execution_count": 10,
   "metadata": {},
   "outputs": [
    {
     "name": "stdout",
     "output_type": "stream",
     "text": [
      "<class 'pandas.core.frame.DataFrame'>\n",
      "RangeIndex: 23699 entries, 0 to 23698\n",
      "Data columns (total 22 columns):\n",
      " #   Column                Non-Null Count  Dtype         \n",
      "---  ------                --------------  -----         \n",
      " 0   total_images          23699 non-null  int64         \n",
      " 1   last_price            23699 non-null  float64       \n",
      " 2   total_area            23699 non-null  float64       \n",
      " 3   first_day_exposition  23699 non-null  datetime64[ns]\n",
      " 4   rooms                 23699 non-null  int64         \n",
      " 5   ceiling_height        23699 non-null  float64       \n",
      " 6   floors_total          23698 non-null  float64       \n",
      " 7   living_area           21796 non-null  float64       \n",
      " 8   floor                 23699 non-null  int64         \n",
      " 9   is_apartment          23699 non-null  bool          \n",
      " 10  studio                23699 non-null  bool          \n",
      " 11  open_plan             23699 non-null  bool          \n",
      " 12  kitchen_area          21421 non-null  float64       \n",
      " 13  balcony               23699 non-null  float64       \n",
      " 14  locality_name         23650 non-null  object        \n",
      " 15  airports_nearest      18157 non-null  float64       \n",
      " 16  cityCenters_nearest   18180 non-null  float64       \n",
      " 17  parks_around3000      23699 non-null  float64       \n",
      " 18  parks_nearest         8079 non-null   float64       \n",
      " 19  ponds_around3000      23699 non-null  float64       \n",
      " 20  ponds_nearest         9110 non-null   float64       \n",
      " 21  days_exposition       20518 non-null  float64       \n",
      "dtypes: bool(3), datetime64[ns](1), float64(14), int64(3), object(1)\n",
      "memory usage: 3.5+ MB\n"
     ]
    }
   ],
   "source": [
    "# Проверяем у каждого ли столбца корректный тип данных\n",
    "#data.info()\n",
    "\n",
    "# Так как значения в столбце 'first_day_exposition' в виде дат мы меняем тип данных с object на 'datetime'\n",
    "data['first_day_exposition'] = pd.to_datetime(data['first_day_exposition'])\n",
    "# Так как значения в столбце 'is_apartment' являются логическими, меняем тип данных.\n",
    "# Преобразование типа данных столбца 'is_apartment' в bool\n",
    "data['is_apartment'] = data['is_apartment'].astype(bool)\n",
    "\n",
    "# Проверяем\n",
    "data.info()"
   ]
  },
  {
   "cell_type": "markdown",
   "metadata": {},
   "source": [
    "После проверки типы данных, мы видим что в таких столбцах как 'fisrt_day_exposition' и 'is_apartment' требуется измена типа данных. В первом столбце мы меняет тип данных с object на datetime так как данные в виде дат, а во втором с object на bool, так как результатами являются логическими. "
   ]
  },
  {
   "cell_type": "code",
   "execution_count": 11,
   "metadata": {},
   "outputs": [],
   "source": [
    "# Приведем названия населенных пунктов к нижнему регистру и заменим \"ё\" на \"е\"\n",
    "data['locality_name'] = (\n",
    "    data['locality_name']\n",
    "    .str.lower()\n",
    "    .str.replace('ё', 'е', regex=True)\n",
    ")\n",
    "\n",
    "# Создадим словарь для замены неявных дубликатов\n",
    "duplicates_replace = {\n",
    "    'поселок городского типа ': '',\n",
    "    'поселок ': '',\n",
    "    'городской поселок ': '',\n",
    "    'городского типа ': '',\n",
    "    'городского типа': '',\n",
    "    'городской ': '',\n",
    "    'городской': '',\n",
    "    'поселок ': '',\n",
    "    'деревня ': '',\n",
    "    'посёлок ': ''\n",
    "}\n",
    "\n",
    "# Применим замену в столбце с названиями населенных пунктов\n",
    "data['locality_name'] = data['locality_name'].replace(duplicates_replace, regex=True)"
   ]
  },
  {
   "cell_type": "code",
   "execution_count": 12,
   "metadata": {},
   "outputs": [
    {
     "data": {
      "text/html": [
       "<div>\n",
       "<style scoped>\n",
       "    .dataframe tbody tr th:only-of-type {\n",
       "        vertical-align: middle;\n",
       "    }\n",
       "\n",
       "    .dataframe tbody tr th {\n",
       "        vertical-align: top;\n",
       "    }\n",
       "\n",
       "    .dataframe thead th {\n",
       "        text-align: right;\n",
       "    }\n",
       "</style>\n",
       "<table border=\"1\" class=\"dataframe\">\n",
       "  <thead>\n",
       "    <tr style=\"text-align: right;\">\n",
       "      <th></th>\n",
       "      <th>total_images</th>\n",
       "      <th>last_price</th>\n",
       "      <th>total_area</th>\n",
       "      <th>first_day_exposition</th>\n",
       "      <th>rooms</th>\n",
       "      <th>ceiling_height</th>\n",
       "      <th>floors_total</th>\n",
       "      <th>living_area</th>\n",
       "      <th>floor</th>\n",
       "      <th>is_apartment</th>\n",
       "      <th>...</th>\n",
       "      <th>kitchen_area</th>\n",
       "      <th>balcony</th>\n",
       "      <th>locality_name</th>\n",
       "      <th>airports_nearest</th>\n",
       "      <th>cityCenters_nearest</th>\n",
       "      <th>parks_around3000</th>\n",
       "      <th>parks_nearest</th>\n",
       "      <th>ponds_around3000</th>\n",
       "      <th>ponds_nearest</th>\n",
       "      <th>days_exposition</th>\n",
       "    </tr>\n",
       "  </thead>\n",
       "  <tbody>\n",
       "    <tr>\n",
       "      <th>0</th>\n",
       "      <td>20</td>\n",
       "      <td>13000000.0</td>\n",
       "      <td>108.00</td>\n",
       "      <td>2019-03-07</td>\n",
       "      <td>3</td>\n",
       "      <td>2.70</td>\n",
       "      <td>9.0</td>\n",
       "      <td>51.00</td>\n",
       "      <td>8</td>\n",
       "      <td>False</td>\n",
       "      <td>...</td>\n",
       "      <td>25.00</td>\n",
       "      <td>0.0</td>\n",
       "      <td>санкт-петербург</td>\n",
       "      <td>18863.0</td>\n",
       "      <td>16028.0</td>\n",
       "      <td>1.0</td>\n",
       "      <td>482.0</td>\n",
       "      <td>2.0</td>\n",
       "      <td>755.0</td>\n",
       "      <td>NaN</td>\n",
       "    </tr>\n",
       "    <tr>\n",
       "      <th>1</th>\n",
       "      <td>7</td>\n",
       "      <td>3350000.0</td>\n",
       "      <td>40.40</td>\n",
       "      <td>2018-12-04</td>\n",
       "      <td>1</td>\n",
       "      <td>2.65</td>\n",
       "      <td>9.0</td>\n",
       "      <td>18.60</td>\n",
       "      <td>1</td>\n",
       "      <td>False</td>\n",
       "      <td>...</td>\n",
       "      <td>11.00</td>\n",
       "      <td>2.0</td>\n",
       "      <td>шушары</td>\n",
       "      <td>12817.0</td>\n",
       "      <td>18603.0</td>\n",
       "      <td>0.0</td>\n",
       "      <td>NaN</td>\n",
       "      <td>0.0</td>\n",
       "      <td>NaN</td>\n",
       "      <td>81.0</td>\n",
       "    </tr>\n",
       "    <tr>\n",
       "      <th>2</th>\n",
       "      <td>10</td>\n",
       "      <td>5196000.0</td>\n",
       "      <td>56.00</td>\n",
       "      <td>2015-08-20</td>\n",
       "      <td>2</td>\n",
       "      <td>2.65</td>\n",
       "      <td>5.0</td>\n",
       "      <td>34.30</td>\n",
       "      <td>4</td>\n",
       "      <td>False</td>\n",
       "      <td>...</td>\n",
       "      <td>8.30</td>\n",
       "      <td>0.0</td>\n",
       "      <td>санкт-петербург</td>\n",
       "      <td>21741.0</td>\n",
       "      <td>13933.0</td>\n",
       "      <td>1.0</td>\n",
       "      <td>90.0</td>\n",
       "      <td>2.0</td>\n",
       "      <td>574.0</td>\n",
       "      <td>558.0</td>\n",
       "    </tr>\n",
       "    <tr>\n",
       "      <th>3</th>\n",
       "      <td>0</td>\n",
       "      <td>64900000.0</td>\n",
       "      <td>159.00</td>\n",
       "      <td>2015-07-24</td>\n",
       "      <td>3</td>\n",
       "      <td>2.65</td>\n",
       "      <td>9.0</td>\n",
       "      <td>NaN</td>\n",
       "      <td>9</td>\n",
       "      <td>False</td>\n",
       "      <td>...</td>\n",
       "      <td>NaN</td>\n",
       "      <td>0.0</td>\n",
       "      <td>санкт-петербург</td>\n",
       "      <td>28098.0</td>\n",
       "      <td>6800.0</td>\n",
       "      <td>2.0</td>\n",
       "      <td>84.0</td>\n",
       "      <td>3.0</td>\n",
       "      <td>234.0</td>\n",
       "      <td>424.0</td>\n",
       "    </tr>\n",
       "    <tr>\n",
       "      <th>4</th>\n",
       "      <td>2</td>\n",
       "      <td>10000000.0</td>\n",
       "      <td>100.00</td>\n",
       "      <td>2018-06-19</td>\n",
       "      <td>2</td>\n",
       "      <td>3.03</td>\n",
       "      <td>9.0</td>\n",
       "      <td>32.00</td>\n",
       "      <td>13</td>\n",
       "      <td>False</td>\n",
       "      <td>...</td>\n",
       "      <td>41.00</td>\n",
       "      <td>0.0</td>\n",
       "      <td>санкт-петербург</td>\n",
       "      <td>31856.0</td>\n",
       "      <td>8098.0</td>\n",
       "      <td>2.0</td>\n",
       "      <td>112.0</td>\n",
       "      <td>1.0</td>\n",
       "      <td>48.0</td>\n",
       "      <td>121.0</td>\n",
       "    </tr>\n",
       "    <tr>\n",
       "      <th>5</th>\n",
       "      <td>10</td>\n",
       "      <td>2890000.0</td>\n",
       "      <td>30.40</td>\n",
       "      <td>2018-09-10</td>\n",
       "      <td>1</td>\n",
       "      <td>2.65</td>\n",
       "      <td>12.0</td>\n",
       "      <td>14.40</td>\n",
       "      <td>5</td>\n",
       "      <td>False</td>\n",
       "      <td>...</td>\n",
       "      <td>9.10</td>\n",
       "      <td>0.0</td>\n",
       "      <td>янино-1</td>\n",
       "      <td>NaN</td>\n",
       "      <td>NaN</td>\n",
       "      <td>0.0</td>\n",
       "      <td>NaN</td>\n",
       "      <td>0.0</td>\n",
       "      <td>NaN</td>\n",
       "      <td>55.0</td>\n",
       "    </tr>\n",
       "    <tr>\n",
       "      <th>6</th>\n",
       "      <td>6</td>\n",
       "      <td>3700000.0</td>\n",
       "      <td>37.30</td>\n",
       "      <td>2017-11-02</td>\n",
       "      <td>1</td>\n",
       "      <td>2.65</td>\n",
       "      <td>25.0</td>\n",
       "      <td>10.60</td>\n",
       "      <td>6</td>\n",
       "      <td>False</td>\n",
       "      <td>...</td>\n",
       "      <td>14.40</td>\n",
       "      <td>1.0</td>\n",
       "      <td>парголово</td>\n",
       "      <td>52996.0</td>\n",
       "      <td>19143.0</td>\n",
       "      <td>0.0</td>\n",
       "      <td>NaN</td>\n",
       "      <td>0.0</td>\n",
       "      <td>NaN</td>\n",
       "      <td>155.0</td>\n",
       "    </tr>\n",
       "    <tr>\n",
       "      <th>7</th>\n",
       "      <td>5</td>\n",
       "      <td>7915000.0</td>\n",
       "      <td>71.60</td>\n",
       "      <td>2019-04-18</td>\n",
       "      <td>2</td>\n",
       "      <td>2.65</td>\n",
       "      <td>9.0</td>\n",
       "      <td>NaN</td>\n",
       "      <td>22</td>\n",
       "      <td>False</td>\n",
       "      <td>...</td>\n",
       "      <td>18.90</td>\n",
       "      <td>2.0</td>\n",
       "      <td>санкт-петербург</td>\n",
       "      <td>23982.0</td>\n",
       "      <td>11634.0</td>\n",
       "      <td>0.0</td>\n",
       "      <td>NaN</td>\n",
       "      <td>0.0</td>\n",
       "      <td>NaN</td>\n",
       "      <td>NaN</td>\n",
       "    </tr>\n",
       "    <tr>\n",
       "      <th>8</th>\n",
       "      <td>20</td>\n",
       "      <td>2900000.0</td>\n",
       "      <td>33.16</td>\n",
       "      <td>2018-05-23</td>\n",
       "      <td>1</td>\n",
       "      <td>2.65</td>\n",
       "      <td>19.0</td>\n",
       "      <td>15.43</td>\n",
       "      <td>26</td>\n",
       "      <td>False</td>\n",
       "      <td>...</td>\n",
       "      <td>8.81</td>\n",
       "      <td>0.0</td>\n",
       "      <td>мурино</td>\n",
       "      <td>NaN</td>\n",
       "      <td>NaN</td>\n",
       "      <td>0.0</td>\n",
       "      <td>NaN</td>\n",
       "      <td>0.0</td>\n",
       "      <td>NaN</td>\n",
       "      <td>189.0</td>\n",
       "    </tr>\n",
       "    <tr>\n",
       "      <th>9</th>\n",
       "      <td>18</td>\n",
       "      <td>5400000.0</td>\n",
       "      <td>61.00</td>\n",
       "      <td>2017-02-26</td>\n",
       "      <td>3</td>\n",
       "      <td>2.50</td>\n",
       "      <td>9.0</td>\n",
       "      <td>43.60</td>\n",
       "      <td>7</td>\n",
       "      <td>False</td>\n",
       "      <td>...</td>\n",
       "      <td>6.50</td>\n",
       "      <td>2.0</td>\n",
       "      <td>санкт-петербург</td>\n",
       "      <td>50898.0</td>\n",
       "      <td>15008.0</td>\n",
       "      <td>0.0</td>\n",
       "      <td>NaN</td>\n",
       "      <td>0.0</td>\n",
       "      <td>NaN</td>\n",
       "      <td>289.0</td>\n",
       "    </tr>\n",
       "  </tbody>\n",
       "</table>\n",
       "<p>10 rows × 22 columns</p>\n",
       "</div>"
      ],
      "text/plain": [
       "   total_images  last_price  total_area first_day_exposition  rooms  \\\n",
       "0            20  13000000.0      108.00           2019-03-07      3   \n",
       "1             7   3350000.0       40.40           2018-12-04      1   \n",
       "2            10   5196000.0       56.00           2015-08-20      2   \n",
       "3             0  64900000.0      159.00           2015-07-24      3   \n",
       "4             2  10000000.0      100.00           2018-06-19      2   \n",
       "5            10   2890000.0       30.40           2018-09-10      1   \n",
       "6             6   3700000.0       37.30           2017-11-02      1   \n",
       "7             5   7915000.0       71.60           2019-04-18      2   \n",
       "8            20   2900000.0       33.16           2018-05-23      1   \n",
       "9            18   5400000.0       61.00           2017-02-26      3   \n",
       "\n",
       "   ceiling_height  floors_total  living_area  floor  is_apartment  ...  \\\n",
       "0            2.70           9.0        51.00      8         False  ...   \n",
       "1            2.65           9.0        18.60      1         False  ...   \n",
       "2            2.65           5.0        34.30      4         False  ...   \n",
       "3            2.65           9.0          NaN      9         False  ...   \n",
       "4            3.03           9.0        32.00     13         False  ...   \n",
       "5            2.65          12.0        14.40      5         False  ...   \n",
       "6            2.65          25.0        10.60      6         False  ...   \n",
       "7            2.65           9.0          NaN     22         False  ...   \n",
       "8            2.65          19.0        15.43     26         False  ...   \n",
       "9            2.50           9.0        43.60      7         False  ...   \n",
       "\n",
       "   kitchen_area  balcony    locality_name  airports_nearest  \\\n",
       "0         25.00      0.0  санкт-петербург           18863.0   \n",
       "1         11.00      2.0           шушары           12817.0   \n",
       "2          8.30      0.0  санкт-петербург           21741.0   \n",
       "3           NaN      0.0  санкт-петербург           28098.0   \n",
       "4         41.00      0.0  санкт-петербург           31856.0   \n",
       "5          9.10      0.0          янино-1               NaN   \n",
       "6         14.40      1.0        парголово           52996.0   \n",
       "7         18.90      2.0  санкт-петербург           23982.0   \n",
       "8          8.81      0.0           мурино               NaN   \n",
       "9          6.50      2.0  санкт-петербург           50898.0   \n",
       "\n",
       "  cityCenters_nearest  parks_around3000  parks_nearest  ponds_around3000  \\\n",
       "0             16028.0               1.0          482.0               2.0   \n",
       "1             18603.0               0.0            NaN               0.0   \n",
       "2             13933.0               1.0           90.0               2.0   \n",
       "3              6800.0               2.0           84.0               3.0   \n",
       "4              8098.0               2.0          112.0               1.0   \n",
       "5                 NaN               0.0            NaN               0.0   \n",
       "6             19143.0               0.0            NaN               0.0   \n",
       "7             11634.0               0.0            NaN               0.0   \n",
       "8                 NaN               0.0            NaN               0.0   \n",
       "9             15008.0               0.0            NaN               0.0   \n",
       "\n",
       "   ponds_nearest  days_exposition  \n",
       "0          755.0              NaN  \n",
       "1            NaN             81.0  \n",
       "2          574.0            558.0  \n",
       "3          234.0            424.0  \n",
       "4           48.0            121.0  \n",
       "5            NaN             55.0  \n",
       "6            NaN            155.0  \n",
       "7            NaN              NaN  \n",
       "8            NaN            189.0  \n",
       "9            NaN            289.0  \n",
       "\n",
       "[10 rows x 22 columns]"
      ]
     },
     "execution_count": 12,
     "metadata": {},
     "output_type": "execute_result"
    }
   ],
   "source": [
    "data.head(10)"
   ]
  },
  {
   "cell_type": "markdown",
   "metadata": {},
   "source": [
    "Гистограмма и ящик с усами визуализируют распределение стоимости объектов недвижимости. Мы видим, что есть несколько объектов с очень высокой стоимостью (выбросы), что делает распределение смещенным вправо. Так как таких значений много их удаление будет неразумно. "
   ]
  },
  {
   "cell_type": "markdown",
   "metadata": {
    "id": "QCcvyY6YAwb-"
   },
   "source": [
    "### Добавьте в таблицу новые столбцы"
   ]
  },
  {
   "cell_type": "code",
   "execution_count": 13,
   "metadata": {
    "id": "Z8eJek3IAwb-"
   },
   "outputs": [
    {
     "data": {
      "text/html": [
       "<div>\n",
       "<style scoped>\n",
       "    .dataframe tbody tr th:only-of-type {\n",
       "        vertical-align: middle;\n",
       "    }\n",
       "\n",
       "    .dataframe tbody tr th {\n",
       "        vertical-align: top;\n",
       "    }\n",
       "\n",
       "    .dataframe thead th {\n",
       "        text-align: right;\n",
       "    }\n",
       "</style>\n",
       "<table border=\"1\" class=\"dataframe\">\n",
       "  <thead>\n",
       "    <tr style=\"text-align: right;\">\n",
       "      <th></th>\n",
       "      <th>total_images</th>\n",
       "      <th>last_price</th>\n",
       "      <th>total_area</th>\n",
       "      <th>first_day_exposition</th>\n",
       "      <th>rooms</th>\n",
       "      <th>ceiling_height</th>\n",
       "      <th>floors_total</th>\n",
       "      <th>living_area</th>\n",
       "      <th>floor</th>\n",
       "      <th>is_apartment</th>\n",
       "      <th>...</th>\n",
       "      <th>parks_nearest</th>\n",
       "      <th>ponds_around3000</th>\n",
       "      <th>ponds_nearest</th>\n",
       "      <th>days_exposition</th>\n",
       "      <th>price_per_square_meter</th>\n",
       "      <th>day</th>\n",
       "      <th>month</th>\n",
       "      <th>year</th>\n",
       "      <th>floor_type</th>\n",
       "      <th>city_center_distance_km</th>\n",
       "    </tr>\n",
       "  </thead>\n",
       "  <tbody>\n",
       "    <tr>\n",
       "      <th>0</th>\n",
       "      <td>20</td>\n",
       "      <td>13000000.0</td>\n",
       "      <td>108.0</td>\n",
       "      <td>2019-03-07</td>\n",
       "      <td>3</td>\n",
       "      <td>2.70</td>\n",
       "      <td>9.0</td>\n",
       "      <td>51.0</td>\n",
       "      <td>8</td>\n",
       "      <td>False</td>\n",
       "      <td>...</td>\n",
       "      <td>482.0</td>\n",
       "      <td>2.0</td>\n",
       "      <td>755.0</td>\n",
       "      <td>NaN</td>\n",
       "      <td>120370.37</td>\n",
       "      <td>7</td>\n",
       "      <td>3</td>\n",
       "      <td>2019</td>\n",
       "      <td>другой</td>\n",
       "      <td>16.0</td>\n",
       "    </tr>\n",
       "    <tr>\n",
       "      <th>1</th>\n",
       "      <td>7</td>\n",
       "      <td>3350000.0</td>\n",
       "      <td>40.4</td>\n",
       "      <td>2018-12-04</td>\n",
       "      <td>1</td>\n",
       "      <td>2.65</td>\n",
       "      <td>9.0</td>\n",
       "      <td>18.6</td>\n",
       "      <td>1</td>\n",
       "      <td>False</td>\n",
       "      <td>...</td>\n",
       "      <td>NaN</td>\n",
       "      <td>0.0</td>\n",
       "      <td>NaN</td>\n",
       "      <td>81.0</td>\n",
       "      <td>82920.79</td>\n",
       "      <td>4</td>\n",
       "      <td>12</td>\n",
       "      <td>2018</td>\n",
       "      <td>первый</td>\n",
       "      <td>19.0</td>\n",
       "    </tr>\n",
       "    <tr>\n",
       "      <th>2</th>\n",
       "      <td>10</td>\n",
       "      <td>5196000.0</td>\n",
       "      <td>56.0</td>\n",
       "      <td>2015-08-20</td>\n",
       "      <td>2</td>\n",
       "      <td>2.65</td>\n",
       "      <td>5.0</td>\n",
       "      <td>34.3</td>\n",
       "      <td>4</td>\n",
       "      <td>False</td>\n",
       "      <td>...</td>\n",
       "      <td>90.0</td>\n",
       "      <td>2.0</td>\n",
       "      <td>574.0</td>\n",
       "      <td>558.0</td>\n",
       "      <td>92785.71</td>\n",
       "      <td>20</td>\n",
       "      <td>8</td>\n",
       "      <td>2015</td>\n",
       "      <td>другой</td>\n",
       "      <td>14.0</td>\n",
       "    </tr>\n",
       "    <tr>\n",
       "      <th>3</th>\n",
       "      <td>0</td>\n",
       "      <td>64900000.0</td>\n",
       "      <td>159.0</td>\n",
       "      <td>2015-07-24</td>\n",
       "      <td>3</td>\n",
       "      <td>2.65</td>\n",
       "      <td>9.0</td>\n",
       "      <td>NaN</td>\n",
       "      <td>9</td>\n",
       "      <td>False</td>\n",
       "      <td>...</td>\n",
       "      <td>84.0</td>\n",
       "      <td>3.0</td>\n",
       "      <td>234.0</td>\n",
       "      <td>424.0</td>\n",
       "      <td>408176.10</td>\n",
       "      <td>24</td>\n",
       "      <td>7</td>\n",
       "      <td>2015</td>\n",
       "      <td>последний</td>\n",
       "      <td>7.0</td>\n",
       "    </tr>\n",
       "    <tr>\n",
       "      <th>4</th>\n",
       "      <td>2</td>\n",
       "      <td>10000000.0</td>\n",
       "      <td>100.0</td>\n",
       "      <td>2018-06-19</td>\n",
       "      <td>2</td>\n",
       "      <td>3.03</td>\n",
       "      <td>9.0</td>\n",
       "      <td>32.0</td>\n",
       "      <td>13</td>\n",
       "      <td>False</td>\n",
       "      <td>...</td>\n",
       "      <td>112.0</td>\n",
       "      <td>1.0</td>\n",
       "      <td>48.0</td>\n",
       "      <td>121.0</td>\n",
       "      <td>100000.00</td>\n",
       "      <td>19</td>\n",
       "      <td>6</td>\n",
       "      <td>2018</td>\n",
       "      <td>другой</td>\n",
       "      <td>8.0</td>\n",
       "    </tr>\n",
       "  </tbody>\n",
       "</table>\n",
       "<p>5 rows × 28 columns</p>\n",
       "</div>"
      ],
      "text/plain": [
       "   total_images  last_price  total_area first_day_exposition  rooms  \\\n",
       "0            20  13000000.0       108.0           2019-03-07      3   \n",
       "1             7   3350000.0        40.4           2018-12-04      1   \n",
       "2            10   5196000.0        56.0           2015-08-20      2   \n",
       "3             0  64900000.0       159.0           2015-07-24      3   \n",
       "4             2  10000000.0       100.0           2018-06-19      2   \n",
       "\n",
       "   ceiling_height  floors_total  living_area  floor  is_apartment  ...  \\\n",
       "0            2.70           9.0         51.0      8         False  ...   \n",
       "1            2.65           9.0         18.6      1         False  ...   \n",
       "2            2.65           5.0         34.3      4         False  ...   \n",
       "3            2.65           9.0          NaN      9         False  ...   \n",
       "4            3.03           9.0         32.0     13         False  ...   \n",
       "\n",
       "   parks_nearest  ponds_around3000  ponds_nearest  days_exposition  \\\n",
       "0          482.0               2.0          755.0              NaN   \n",
       "1            NaN               0.0            NaN             81.0   \n",
       "2           90.0               2.0          574.0            558.0   \n",
       "3           84.0               3.0          234.0            424.0   \n",
       "4          112.0               1.0           48.0            121.0   \n",
       "\n",
       "  price_per_square_meter  day  month  year  floor_type  \\\n",
       "0              120370.37    7      3  2019      другой   \n",
       "1               82920.79    4     12  2018      первый   \n",
       "2               92785.71   20      8  2015      другой   \n",
       "3              408176.10   24      7  2015   последний   \n",
       "4              100000.00   19      6  2018      другой   \n",
       "\n",
       "   city_center_distance_km  \n",
       "0                     16.0  \n",
       "1                     19.0  \n",
       "2                     14.0  \n",
       "3                      7.0  \n",
       "4                      8.0  \n",
       "\n",
       "[5 rows x 28 columns]"
      ]
     },
     "execution_count": 13,
     "metadata": {},
     "output_type": "execute_result"
    }
   ],
   "source": [
    "# Добавление столбца \"цена за квадратный метр\"\n",
    "data['price_per_square_meter'] = data['last_price'] / data['total_area']\n",
    "data['price_per_square_meter'] = data['price_per_square_meter'].round(2)\n",
    "\n",
    "data['day'] = data['first_day_exposition'].dt.day\n",
    "data['month'] = data['first_day_exposition'].dt.month\n",
    "data['year'] = data['first_day_exposition'].dt.year\n",
    "\n",
    "# Функция для определения типа этажа\n",
    "def floor_type(row):\n",
    "    if row['floor'] == 1:\n",
    "        return 'первый'\n",
    "    elif row['floor'] == row['floors_total']:\n",
    "        return 'последний'\n",
    "    else:\n",
    "        return 'другой'\n",
    "\n",
    "# Добавление столбца \"тип этажа квартиры\"\n",
    "data['floor_type'] = data.apply(floor_type, axis=1)\n",
    "\n",
    "# Добавление столбца \"расстояние до центра города в километрах\"\n",
    "data['city_center_distance_km'] = (data['cityCenters_nearest'] / 1000).round()\n",
    "data.head()"
   ]
  },
  {
   "cell_type": "markdown",
   "metadata": {
    "id": "pPyxrKWTAwb-"
   },
   "source": [
    "### Проведите исследовательский анализ данных"
   ]
  },
  {
   "cell_type": "code",
   "execution_count": 14,
   "metadata": {},
   "outputs": [
    {
     "data": {
      "image/png": "[encoded data removed]",
      "text/plain": [
       "<Figure size 720x432 with 1 Axes>"
      ]
     },
     "metadata": {
      "needs_background": "light"
     },
     "output_type": "display_data"
    },
    {
     "name": "stdout",
     "output_type": "stream",
     "text": [
      "Процент отброшенных данных total_area: 0.98%\n"
     ]
    },
    {
     "data": {
      "image/png": "[encoded data removed]",
      "text/plain": [
       "<Figure size 720x432 with 1 Axes>"
      ]
     },
     "metadata": {
      "needs_background": "light"
     },
     "output_type": "display_data"
    },
    {
     "name": "stdout",
     "output_type": "stream",
     "text": [
      "Процент отброшенных данных last_price: 0.81%\n"
     ]
    },
    {
     "data": {
      "image/png": "[encoded data removed]",
      "text/plain": [
       "<Figure size 720x432 with 1 Axes>"
      ]
     },
     "metadata": {
      "needs_background": "light"
     },
     "output_type": "display_data"
    },
    {
     "name": "stdout",
     "output_type": "stream",
     "text": [
      "Процент отброшенных данных rooms: 0.85%\n"
     ]
    },
    {
     "data": {
      "image/png": "[encoded data removed]",
      "text/plain": [
       "<Figure size 720x432 with 1 Axes>"
      ]
     },
     "metadata": {
      "needs_background": "light"
     },
     "output_type": "display_data"
    },
    {
     "name": "stdout",
     "output_type": "stream",
     "text": [
      "Процент отброшенных данных ceiling_height: 0.45%\n"
     ]
    }
   ],
   "source": [
    "# Проверка количества отбрасываемых данных для каждого этапа\n",
    "def check_removed_data(old_data, new_data, feature_name):\n",
    "    removed_data_percentage = (old_data.shape[0] - new_data.shape[0]) / old_data.shape[0] * 100\n",
    "    print(f\"Процент отброшенных данных {feature_name}: {removed_data_percentage:.2f}%\")\n",
    "\n",
    "# Функция обработки данных для каждого столбца\n",
    "def process_feature(data, feature_name, lower_limit, upper_limit):\n",
    "    # Гистограмма\n",
    "    plt.figure(figsize=(10, 6))\n",
    "    sns.histplot(data[feature_name], bins=50)\n",
    "    plt.title(f'Гистограмма {feature_name}')\n",
    "    plt.show()\n",
    "\n",
    "    # Сохранение копии данных до изменений\n",
    "    data_before = data.copy()\n",
    "\n",
    "    # Удаление аномальных значений\n",
    "    data = data[(data[feature_name] > lower_limit) & (data[feature_name] < upper_limit)]\n",
    "\n",
    "    # Сохранение копии данных после изменений\n",
    "    data_after = data.copy()\n",
    "\n",
    "    # Проверка количества отбрасываемых данных\n",
    "    check_removed_data(data_before, data_after, feature_name)\n",
    "\n",
    "    return data\n",
    "\n",
    "# Пример использования для каждого столбца\n",
    "data = process_feature(data, 'total_area', 12, 200)\n",
    "data = process_feature(data, 'last_price', 50000, 30000000)\n",
    "data = process_feature(data, 'rooms', 0, 8)\n",
    "data = process_feature(data, 'ceiling_height', 2, 4)"
   ]
  },
  {
   "cell_type": "code",
   "execution_count": 15,
   "metadata": {},
   "outputs": [
    {
     "data": {
      "image/png": "[encoded data removed]",
      "text/plain": [
       "<Figure size 720x432 with 1 Axes>"
      ]
     },
     "metadata": {
      "needs_background": "light"
     },
     "output_type": "display_data"
    }
   ],
   "source": [
    "# Гистограмма для общей площади\n",
    "plt.figure(figsize=(10, 6))\n",
    "sns.histplot(data['total_area'], bins=50)\n",
    "plt.title('Гистограмма общей площади')\n",
    "plt.show()\n",
    "\n",
    "# Удаление аномальных значений\n",
    "data = data[(data['total_area'] > 12) & (data['total_area'] < 200)]"
   ]
  },
  {
   "cell_type": "markdown",
   "metadata": {},
   "source": [
    "Обычно квартиры имеют определенные границы по площади, и выбросы могут быть связаны с некорректными данными или объектами недвижимости, не подходящими под стандарты. Границы от 12 до 200 кв.м. могут охватить большинство стандартных квартир, отсекая аномалии."
   ]
  },
  {
   "cell_type": "code",
   "execution_count": 16,
   "metadata": {},
   "outputs": [
    {
     "data": {
      "image/png": "[encoded data removed]",
      "text/plain": [
       "<Figure size 720x432 with 1 Axes>"
      ]
     },
     "metadata": {
      "needs_background": "light"
     },
     "output_type": "display_data"
    }
   ],
   "source": [
    "# Гистограмма для жилой площади\n",
    "plt.figure(figsize=(10, 6))\n",
    "sns.histplot(data['living_area'], bins=50)\n",
    "plt.title('Гистограмма жилой площади')\n",
    "plt.show()\n",
    "\n",
    "# Удаление аномальных значений\n",
    "# Отменяю удаление выбросов\n",
    "# data = data[(data['living_area'] > 10) & (data['living_area'] < 150)]"
   ]
  },
  {
   "cell_type": "code",
   "execution_count": 17,
   "metadata": {},
   "outputs": [
    {
     "data": {
      "image/png": "[encoded data removed]",
      "text/plain": [
       "<Figure size 720x432 with 1 Axes>"
      ]
     },
     "metadata": {
      "needs_background": "light"
     },
     "output_type": "display_data"
    }
   ],
   "source": [
    "# Гистограмма для площади кухни\n",
    "plt.figure(figsize=(10, 6))\n",
    "sns.histplot(data['kitchen_area'], bins=50)\n",
    "plt.title('Гистограмма площади кухни')\n",
    "plt.show()\n",
    "\n",
    "# Удаление аномальных значений\n",
    "# Отменяю удаление выбросов\n",
    "# data = data[(data['kitchen_area'] > 5) & (data['kitchen_area'] < 60)]"
   ]
  },
  {
   "cell_type": "code",
   "execution_count": 18,
   "metadata": {},
   "outputs": [
    {
     "data": {
      "image/png": "[encoded data removed]",
      "text/plain": [
       "<Figure size 720x432 with 1 Axes>"
      ]
     },
     "metadata": {
      "needs_background": "light"
     },
     "output_type": "display_data"
    }
   ],
   "source": [
    "# Гистограмма для цены объекта\n",
    "plt.figure(figsize=(10, 6))\n",
    "sns.histplot(data['last_price'], bins=50)\n",
    "plt.title('Гистограмма цены объекта')\n",
    "plt.show()\n",
    "\n",
    "# Удаление аномальных значений\n",
    "data = data[(data['last_price'] > 50000) & (data['last_price'] < 30000000)]"
   ]
  },
  {
   "cell_type": "markdown",
   "metadata": {},
   "source": [
    "Цена является ключевым параметром и выбросы в этом случае могут быть связаны с редкими, но очень дорогими объектами или ошибками в данных. Диапазон от 50,000 до 30,000,000 рублей убирает самые экстремальные значения."
   ]
  },
  {
   "cell_type": "code",
   "execution_count": 19,
   "metadata": {},
   "outputs": [
    {
     "data": {
      "image/png": "[encoded data removed]",
      "text/plain": [
       "<Figure size 720x432 with 1 Axes>"
      ]
     },
     "metadata": {
      "needs_background": "light"
     },
     "output_type": "display_data"
    }
   ],
   "source": [
    "# Гистограмма для количества комнат\n",
    "plt.figure(figsize=(10, 6))\n",
    "sns.histplot(data['rooms'], bins=20)\n",
    "plt.title('Гистограмма количества комнат')\n",
    "plt.show()\n",
    "\n",
    "# Удаление аномальных значений\n",
    "data = data[(data['rooms'] > 0) & (data['rooms'] < 8)]"
   ]
  },
  {
   "cell_type": "markdown",
   "metadata": {},
   "source": [
    "Обычно количество комнат имеет ограниченный диапазон в типичных жилых помещениях. Ограничив от 1 до 7 комнат, можно учесть большинство стандартных вариантов."
   ]
  },
  {
   "cell_type": "code",
   "execution_count": 20,
   "metadata": {},
   "outputs": [
    {
     "data": {
      "image/png": "[encoded data removed]",
      "text/plain": [
       "<Figure size 720x432 with 1 Axes>"
      ]
     },
     "metadata": {
      "needs_background": "light"
     },
     "output_type": "display_data"
    }
   ],
   "source": [
    "# Гистограмма для высоты потолков\n",
    "plt.figure(figsize=(10, 6))\n",
    "sns.histplot(data['ceiling_height'], bins=20)\n",
    "plt.title('Гистограмма высоты потолков')\n",
    "plt.show()\n",
    "\n",
    "# Удаление аномальных значений\n",
    "data = data[(data['ceiling_height'] > 2) & (data['ceiling_height'] < 4)]\n",
    "\n",
    "# Исправление логических ошибок в значениях\n",
    "data['ceiling_height'] = data['ceiling_height'].apply(lambda x: x if x < 10 else x / 10)"
   ]
  },
  {
   "cell_type": "markdown",
   "metadata": {},
   "source": [
    "Выбросы в высоте потолков могут быть связаны с ошибками в данных или редкими объектами с необычными параметрами. Диапазон от 2 до 4 метров оставляет стандартные значения, отсекая крайние аномалии."
   ]
  },
  {
   "cell_type": "code",
   "execution_count": 21,
   "metadata": {},
   "outputs": [
    {
     "name": "stderr",
     "output_type": "stream",
     "text": [
      "/opt/conda/lib/python3.9/site-packages/seaborn/_decorators.py:36: FutureWarning: Pass the following variable as a keyword arg: x. From version 0.12, the only valid positional argument will be `data`, and passing other arguments without an explicit keyword will result in an error or misinterpretation.\n",
      "  warnings.warn(\n"
     ]
    },
    {
     "data": {
      "image/png": "[encoded data removed]",
      "text/plain": [
       "<Figure size 720x432 with 1 Axes>"
      ]
     },
     "metadata": {
      "needs_background": "light"
     },
     "output_type": "display_data"
    },
    {
     "data": {
      "image/png": "[encoded data removed]",
      "text/plain": [
       "<Figure size 720x432 with 1 Axes>"
      ]
     },
     "metadata": {
      "needs_background": "light"
     },
     "output_type": "display_data"
    }
   ],
   "source": [
    "# Гистограмма для типа этажа квартиры\n",
    "plt.figure(figsize=(10, 6))\n",
    "sns.countplot(data['floor_type'])\n",
    "plt.title('Гистограмма типа этажа квартиры')\n",
    "plt.show()\n",
    "\n",
    "# Гистограмма для общего количества этажей в доме\n",
    "plt.figure(figsize=(10, 6))\n",
    "sns.histplot(data['floors_total'], bins=30)\n",
    "plt.title('Гистограмма общего количества этажей')\n",
    "plt.show()\n",
    "\n",
    "# Удаление аномальных значений\n",
    "# Отменяю удаление выбросов\n",
    "# data = data[data['floors_total'] > 0]\n"
   ]
  },
  {
   "cell_type": "code",
   "execution_count": 22,
   "metadata": {},
   "outputs": [
    {
     "data": {
      "image/png": "[encoded data removed]",
      "text/plain": [
       "<Figure size 720x432 with 1 Axes>"
      ]
     },
     "metadata": {
      "needs_background": "light"
     },
     "output_type": "display_data"
    }
   ],
   "source": [
    "# Гистограмма для расстояния до центра города в метрах\n",
    "plt.figure(figsize=(10, 6))\n",
    "sns.histplot(data['cityCenters_nearest'], bins=50)\n",
    "plt.title('Гистограмма расстояния до центра города в метрах')\n",
    "plt.show()\n",
    "\n",
    "# Удаление аномальных значений\n",
    "# Отменяю удаление выбросов\n",
    "# data = data[data['cityCenters_nearest'] > 0]"
   ]
  },
  {
   "cell_type": "code",
   "execution_count": 23,
   "metadata": {
    "id": "V2f0D3kLAwb-"
   },
   "outputs": [
    {
     "data": {
      "image/png": "[encoded data removed]",
      "text/plain": [
       "<Figure size 720x432 with 1 Axes>"
      ]
     },
     "metadata": {
      "needs_background": "light"
     },
     "output_type": "display_data"
    }
   ],
   "source": [
    "# Гистограмма для расстояния до ближайшего парка\n",
    "plt.figure(figsize=(10, 6))\n",
    "sns.histplot(data['parks_nearest'], bins=50)\n",
    "plt.title('Гистограмма расстояния до ближайшего парка')\n",
    "plt.show()\n",
    "\n",
    "# Удаление аномальных значений\n",
    "# Отменяю удаление выбросов\n",
    "# data = data[data['parks_nearest'] > 0]"
   ]
  },
  {
   "cell_type": "markdown",
   "metadata": {},
   "source": [
    "Остальные столбцы могут быть менее критичными для анализаъ. Например, тип этажа, общее количество этажей в доме, расстояние до центра города и ближайшего парка могут быть важными параметрами, которые не требуют удаления выбросов."
   ]
  },
  {
   "cell_type": "code",
   "execution_count": 24,
   "metadata": {},
   "outputs": [
    {
     "data": {
      "image/png": "[encoded data removed]",
      "text/plain": [
       "<Figure size 720x432 with 1 Axes>"
      ]
     },
     "metadata": {
      "needs_background": "light"
     },
     "output_type": "display_data"
    },
    {
     "name": "stdout",
     "output_type": "stream",
     "text": [
      "Среднее время продажи: 179.47 дней\n",
      "Медианное время продажи: 95.00 дней\n"
     ]
    }
   ],
   "source": [
    "# Гистограмма времени продажи квартир\n",
    "plt.figure(figsize=(10, 6))\n",
    "sns.histplot(data['days_exposition'].dropna(), bins=50)\n",
    "plt.title('Гистограмма времени продажи квартир')\n",
    "plt.show()\n",
    "\n",
    "# Расчет среднего и медианы\n",
    "mean_days = data['days_exposition'].mean()\n",
    "median_days = data['days_exposition'].median()\n",
    "\n",
    "print(f\"Среднее время продажи: {mean_days:.2f} дней\")\n",
    "print(f\"Медианное время продажи: {median_days:.2f} дней\")\n"
   ]
  },
  {
   "cell_type": "markdown",
   "metadata": {},
   "source": [
    "Среднее время продажи квартир составляет 179.47 дней, а медианное время продажи - 95.00 дней. Исходя из этих данных, мы можем сделать следующие выводы:\n",
    "\n",
    "Обычно занимает продажа:\n",
    "В среднем, продажа квартиры занимает около 179 дней, а медианное значение равно 95 дням. Эти значения предоставляют представление о типичном временном интервале для продажи квартиры.\n",
    "\n",
    "Быстрые продажи:\n",
    "Квартиры, которые продаются за период, меньший медианного значения (меньше 95 дней), могут считаться быстрыми продажами.\n",
    "\n",
    "Необычно долгие продажи:\n",
    "Продажи, которые занимают больше среднего или медианного значения, могут рассматриваться как необычно долгие. Это может быть связано с различными факторами, такими как высокая цена, специфичные требования покупателей или региональные особенности рынка"
   ]
  },
  {
   "cell_type": "code",
   "execution_count": 25,
   "metadata": {},
   "outputs": [],
   "source": [
    "# Общая площадь\n",
    "pivot_total_area = data.pivot_table(index='total_area', values='last_price', aggfunc='median')\n",
    "\n",
    "# Жилая площадь\n",
    "pivot_living_area = data.pivot_table(index='living_area', values='last_price', aggfunc='median')\n",
    "\n",
    "# Площадь кухни\n",
    "pivot_kitchen_area = data.pivot_table(index='kitchen_area', values='last_price', aggfunc='median')\n",
    "\n",
    "# Количество комнат\n",
    "pivot_rooms = data.pivot_table(index='rooms', values='last_price', aggfunc='median')\n",
    "\n",
    "# Этаж\n",
    "pivot_floor_type = data.pivot_table(index='floor_type', values='last_price', aggfunc='median')\n",
    "\n",
    "# День недели размещения объявления\n",
    "pivot_day_of_week = data.pivot_table(index=data['first_day_exposition'].dt.dayofweek, values='last_price', aggfunc='median')\n",
    "\n",
    "# Месяц размещения объявления\n",
    "pivot_month = data.pivot_table(index=data['first_day_exposition'].dt.month, values='last_price', aggfunc='median')\n",
    "\n",
    "# Год размещения объявления\n",
    "pivot_year = data.pivot_table(index=data['first_day_exposition'].dt.year, values='last_price', aggfunc='median')\n"
   ]
  },
  {
   "cell_type": "code",
   "execution_count": 26,
   "metadata": {},
   "outputs": [
    {
     "data": {
      "image/png": "[encoded data removed]",
      "text/plain": [
       "<Figure size 864x432 with 1 Axes>"
      ]
     },
     "metadata": {
      "needs_background": "light"
     },
     "output_type": "display_data"
    },
    {
     "data": {
      "image/png": "[encoded data removed]",
      "text/plain": [
       "<Figure size 864x432 with 1 Axes>"
      ]
     },
     "metadata": {
      "needs_background": "light"
     },
     "output_type": "display_data"
    },
    {
     "data": {
      "image/png": "[encoded data removed]",
      "text/plain": [
       "<Figure size 864x432 with 1 Axes>"
      ]
     },
     "metadata": {
      "needs_background": "light"
     },
     "output_type": "display_data"
    },
    {
     "data": {
      "image/png": "[encoded data removed]",
      "text/plain": [
       "<Figure size 864x432 with 1 Axes>"
      ]
     },
     "metadata": {
      "needs_background": "light"
     },
     "output_type": "display_data"
    },
    {
     "data": {
      "image/png": "[encoded data removed]",
      "text/plain": [
       "<Figure size 720x432 with 1 Axes>"
      ]
     },
     "metadata": {
      "needs_background": "light"
     },
     "output_type": "display_data"
    },
    {
     "data": {
      "image/png": "[encoded data removed]",
      "text/plain": [
       "<Figure size 720x432 with 1 Axes>"
      ]
     },
     "metadata": {
      "needs_background": "light"
     },
     "output_type": "display_data"
    },
    {
     "data": {
      "image/png": "[encoded data removed]",
      "text/plain": [
       "<Figure size 720x432 with 1 Axes>"
      ]
     },
     "metadata": {
      "needs_background": "light"
     },
     "output_type": "display_data"
    },
    {
     "data": {
      "image/png": "[encoded data removed]",
      "text/plain": [
       "<Figure size 720x432 with 1 Axes>"
      ]
     },
     "metadata": {
      "needs_background": "light"
     },
     "output_type": "display_data"
    }
   ],
   "source": [
    "# Общая площадь\n",
    "plt.figure(figsize=(12, 6))\n",
    "plt.scatter(pivot_total_area.index, pivot_total_area['last_price'])\n",
    "plt.title('Зависимость цены от общей площади')\n",
    "plt.xlabel('Общая площадь, кв. м')\n",
    "plt.ylabel('Медианная цена')\n",
    "plt.show()\n",
    "\n",
    "# Жилая площадь\n",
    "plt.figure(figsize=(12, 6))\n",
    "plt.scatter(pivot_living_area.index, pivot_living_area['last_price'])\n",
    "plt.title('Зависимость цены от жилой площади')\n",
    "plt.xlabel('Жилая площадь, кв. м')\n",
    "plt.ylabel('Медианная цена')\n",
    "plt.show()\n",
    "\n",
    "# Площадь кухни\n",
    "plt.figure(figsize=(12, 6))\n",
    "plt.scatter(pivot_kitchen_area.index, pivot_kitchen_area['last_price'])\n",
    "plt.title('Зависимость цены от площади кухни')\n",
    "plt.xlabel('Площадь кухни, кв. м')\n",
    "plt.ylabel('Медианная цена')\n",
    "plt.show()\n",
    "\n",
    "# Количество комнат\n",
    "plt.figure(figsize=(12, 6))\n",
    "plt.scatter(pivot_rooms.index, pivot_rooms['last_price'])\n",
    "plt.title('Зависимость цены от количества комнат')\n",
    "plt.xlabel('Количество комнат')\n",
    "plt.ylabel('Медианная цена')\n",
    "plt.show()\n",
    "\n",
    "# Этаж\n",
    "plt.figure(figsize=(10, 6))\n",
    "plt.bar(pivot_floor_type.index, pivot_floor_type['last_price'])\n",
    "plt.title('Зависимость цены от типа этажа')\n",
    "plt.xlabel('Тип этажа')\n",
    "plt.ylabel('Медианная цена')\n",
    "plt.show()\n",
    "\n",
    "# День недели размещения объявления\n",
    "plt.figure(figsize=(10, 6))\n",
    "plt.bar(pivot_day_of_week.index, pivot_day_of_week['last_price'])\n",
    "plt.title('Зависимость цены от дня недели размещения объявления')\n",
    "plt.xlabel('День недели')\n",
    "plt.ylabel('Медианная цена')\n",
    "plt.show()\n",
    "\n",
    "# Месяц размещения объявления\n",
    "plt.figure(figsize=(10, 6))\n",
    "plt.bar(pivot_month.index, pivot_month['last_price'])\n",
    "plt.title('Зависимость цены от месяца размещения объявления')\n",
    "plt.xlabel('Месяц')\n",
    "plt.ylabel('Медианная цена')\n",
    "plt.show()\n",
    "\n",
    "# Год размещения объявления\n",
    "plt.figure(figsize=(10, 6))\n",
    "plt.bar(pivot_year.index, pivot_year['last_price'])\n",
    "plt.title('Зависимость цены от года размещения объявления')\n",
    "plt.xlabel('Год')\n",
    "plt.ylabel('Медианная цена')\n",
    "plt.show()\n",
    "\n",
    "\n"
   ]
  },
  {
   "cell_type": "markdown",
   "metadata": {},
   "source": [
    "Судя по графикам\n",
    "\n",
    "Общая площадь:\n",
    "На графике \"Зависимость цены от общей площади\" видно, что с увеличением общей площади наблюдается увеличение медианной цены. Большие квартиры обычно стоят дороже.\n",
    "\n",
    "Жилая площадь:\n",
    "График \"Зависимость цены от жилой площади\" показывает положительную зависимость между жилой площадью и ценой. Квартиры с большей жилой площадью, вероятно, будут стоить больше.\n",
    "\n",
    "Площадь кухни:\n",
    "Из графика \"Зависимость цены от площади кухни\" видно, что цена объекта увеличивается с увеличением площади кухни. Большие кухни, вероятно, влияют на общую стоимость недвижимости.\n",
    "\n",
    "Количество комнат:\n",
    "График \"Зависимость цены от количества комнат\" показывает, что квартиры с большим количеством комнат имеют более высокие цены. Это может быть связано с общей площадью квартиры.\n",
    "\n",
    "Этаж:\n",
    "На графике \"Зависимость цены от этажа\" видно, что квартиры на первом этаже чаще всего стоят дешевле, чем на последнем и других этажах.\n",
    "\n",
    "День недели размещения объявления:\n",
    "Из графика \"Зависимость цены от дня недели\" можно сделать вывод, что цена объекта не зависит от дня недели размещения объявления.\n",
    "\n",
    "Месяц размещения объявления:\n",
    "График \"Зависимость цены от месяца размещения объявления\" показывает, что средняя цена объекта может варьироваться в зависимости от месяца, но различия не слишком существенны.\n",
    "\n",
    "Год размещения объявления:\n",
    "На графике \"Зависимость цены от года размещения объявления\" видно, что цены на недвижимость могут меняться в течение времени, возможно, в связи с изменениями на рынке недвижимости."
   ]
  },
  {
   "cell_type": "code",
   "execution_count": 27,
   "metadata": {},
   "outputs": [
    {
     "name": "stdout",
     "output_type": "stream",
     "text": [
      "                 price_per_square_meter  total_images\n",
      "locality_name                                        \n",
      "санкт-петербург           110407.768298         15132\n",
      "мурино                     85478.554082           561\n",
      "кудрово                    95151.880622           450\n",
      "шушары                     78405.738532           436\n",
      "всеволожск                 68579.740283           389\n",
      "пушкин                    102769.181409           362\n",
      "колпино                    75333.295816           337\n",
      "парголово                  90448.423416           322\n",
      "гатчина                    68811.372590           305\n",
      "выборг                     58250.660815           233\n",
      "\n",
      "Самая высокая стоимость квадратного метра в санкт-петербург: 110407.77\n",
      "Самая низкая стоимость квадратного метра в выборг: 58250.66\n"
     ]
    }
   ],
   "source": [
    "# Определим 10 населённых пунктов с наибольшим числом объявлений\n",
    "top_localities = data['locality_name'].value_counts().head(10).index\n",
    "\n",
    "# Созданием сводную таблицу\n",
    "pivot_localities = data[data['locality_name'].isin(top_localities)].pivot_table(\n",
    "    index='locality_name',\n",
    "    values=['price_per_square_meter', 'total_images'],\n",
    "    aggfunc={'price_per_square_meter': 'mean', 'total_images': 'count'}\n",
    ")\n",
    "\n",
    "# Сортируем количества объявлений\n",
    "pivot_localities = pivot_localities.sort_values(by='total_images', ascending=False)\n",
    "\n",
    "# Выделяем населённые пункты с самой высокой и низкой стоимостью квадратного метра\n",
    "highest_price_locality = pivot_localities['price_per_square_meter'].idxmax()\n",
    "lowest_price_locality = pivot_localities['price_per_square_meter'].idxmin()\n",
    "\n",
    "# Выводим \n",
    "print(pivot_localities)\n",
    "\n",
    "# Вывод населённых пунктов с самой высокой и низкой стоимостью квадратного метра\n",
    "print(f\"\\nСамая высокая стоимость квадратного метра в {highest_price_locality}: {pivot_localities.loc[highest_price_locality, 'price_per_square_meter']:.2f}\")\n",
    "print(f\"Самая низкая стоимость квадратного метра в {lowest_price_locality}: {pivot_localities.loc[lowest_price_locality, 'price_per_square_meter']:.2f}\")\n"
   ]
  },
  {
   "cell_type": "code",
   "execution_count": 28,
   "metadata": {},
   "outputs": [
    {
     "name": "stderr",
     "output_type": "stream",
     "text": [
      "/tmp/ipykernel_48/3135797328.py:4: SettingWithCopyWarning: \n",
      "A value is trying to be set on a copy of a slice from a DataFrame.\n",
      "Try using .loc[row_indexer,col_indexer] = value instead\n",
      "\n",
      "See the caveats in the documentation: https://pandas.pydata.org/pandas-docs/stable/user_guide/indexing.html#returning-a-view-versus-a-copy\n",
      "  spb_data['distance_to_center_km'] = spb_data['cityCenters_nearest'] / 1000\n"
     ]
    },
    {
     "data": {
      "image/png": "[encoded data removed]",
      "text/plain": [
       "<Figure size 1440x864 with 1 Axes>"
      ]
     },
     "metadata": {
      "needs_background": "light"
     },
     "output_type": "display_data"
    }
   ],
   "source": [
    "# Выделяем квартиры в Санкт-Петербурге\n",
    "spb_data = data[data['locality_name'] == 'санкт-петербург']\n",
    "\n",
    "spb_data['distance_to_center_km'] = spb_data['cityCenters_nearest'] / 1000\n",
    "\n",
    "# Создаем сводную таблицу\n",
    "pivot_distance_price = spb_data.pivot_table(\n",
    "    index='distance_to_center_km',\n",
    "    values='price_per_square_meter',\n",
    "    aggfunc='mean'\n",
    ")\n",
    "\n",
    "# График\n",
    "plt.figure(figsize=(20, 12))\n",
    "plt.plot(pivot_distance_price.index, pivot_distance_price['price_per_square_meter'], marker='o', linestyle='-')\n",
    "plt.title('Зависимость средней цены за квадратный метр от расстояния до центра Санкт-Петербурга')\n",
    "plt.xlabel('Расстояние до центра, км')\n",
    "plt.ylabel('Средняя цена за квадратный метр')\n",
    "plt.grid(True)\n",
    "plt.show()\n"
   ]
  },
  {
   "cell_type": "markdown",
   "metadata": {},
   "source": [
    "График наглядно демонстрирует, как меняется средняя цена квартир в зависимости от удаленности от центра Санкт-Петербурга. График имеет ярко выраженный тренд: чем ближе к центру, тем выше средняя цена жилья. Существует заметный спад цен по мере удаления от центра города. Особенно выделяются первые несколько километров, где цены существенно выше по сравнению с окраинами."
   ]
  },
  {
   "cell_type": "markdown",
   "metadata": {
    "id": "h7VpzkIDAwb-"
   },
   "source": [
    "### Напишите общий вывод"
   ]
  },
  {
   "cell_type": "markdown",
   "metadata": {
    "id": "3H4lnp_KAwb-"
   },
   "source": [
    "Цена квартиры в основном зависит от таких факторов, как площадь, количество комнат, этаж, удаленность от центра и дата размещения объявления. Среднее время продажи квартиры составляет примерно 193 дня. Наибольшая зависимость цены от расстояния до центра Санкт-Петербурга наблюдается в пределах 10 километров."
   ]
  },
  {
   "cell_type": "markdown",
   "metadata": {},
   "source": [
    "Общий вывод:\n",
    "\n",
    "В ходе анализа данных о продаже квартир в Санкт-Петербурге были проведены следующие этапы:\n",
    "\n",
    "Обработка данных:\n",
    "Устранены аномалии и выбросы в таких ключевых параметрах, как общая площадь, жилая площадь, площадь кухни, цена, количество комнат, высота потолков.\n",
    "Произведено удаление аномалий и коррекция логических ошибок для повышения качества данных.\n",
    "\n",
    "Исследовательский анализ данных:\n",
    "Проведен анализ распределения значений по параметрам, выявлены особенности каждого признака.\n",
    "Изучено влияние различных факторов (площади, количества комнат, цены, высоты потолка) на цену квартиры.\n",
    "\n",
    "Определение центра города:\n",
    "Выделены ключевые районы, которые могут считаться центральными, исходя из графиков и анализа расстояния до центра.\n",
    "\n",
    "Определение факторов, влияющих на цену квартиры:\n",
    "Установлено, что основные факторы, влияющие на цену, - площадь, количество комнат, высота потолка, и сама цена.\n",
    "Замечена зависимость цены от расстояния до центра в пределах 10 -12 километров.\n",
    "\n",
    "Оценка времени продажи:\n",
    "Среднее время продажи квартиры составляет примерно 179 дня.\n",
    "\n",
    "Итог:\n",
    "В результате проведенного исследования мы получили полное представление о рынке недвижимости в Санкт-Петербурге."
   ]
  },
  {
   "cell_type": "markdown",
   "metadata": {
    "id": "A90mc0BgAwb-"
   },
   "source": [
    "**Чек-лист готовности проекта**\n",
    "\n",
    "Поставьте 'x' в выполненных пунктах. Далее нажмите Shift+Enter."
   ]
  },
  {
   "cell_type": "markdown",
   "metadata": {
    "id": "ME3sTWm6Awb-"
   },
   "source": [
    "- [x]  Файл с данными открыт.\n",
    "- [x]  Файл с данными изучен: выведены первые строки, использован метод `info()`, построены гистограммы.\n",
    "- [x]  Найдены пропущенные значения.\n",
    "- [x]  Пропущенные значения заполнены там, где это возможно.\n",
    "- [x]  Объяснено, какие пропущенные значения обнаружены.\n",
    "- [x]  В каждом столбце установлен корректный тип данных.\n",
    "- [x]  Объяснено, в каких столбцах изменён тип данных и почему.\n",
    "- [x]  Устранены неявные дубликаты в названиях населённых пунктов.\n",
    "- [x]  Обработаны редкие и выбивающиеся значения (аномалии).\n",
    "- [x]  В таблицу добавлены новые параметры:\n",
    "       – цена одного квадратного метра;\n",
    "       – день публикации объявления (0 - понедельник, 1 - вторник и т. д.);\n",
    "       – месяц публикации объявления;\n",
    "       – год публикации объявления;\n",
    "       – тип этажа квартиры (значения — «первый», «последний», «другой»);\n",
    "       – расстояние до центра города в километрах.\n",
    "- [x]  Изучены и описаны параметры:\n",
    "        - общая площадь;\n",
    "        - жилая площадь;\n",
    "        - площадь кухни;\n",
    "        - цена объекта;\n",
    "        - количество комнат;\n",
    "        - высота потолков;\n",
    "        - тип этажа квартиры («первый», «последний», «другой»);\n",
    "        - общее количество этажей в доме;\n",
    "        - расстояние до центра города в метрах;\n",
    "        - расстояние до ближайшего парка.\n",
    "- [x]  Выполнено задание «Изучите, как быстро продавались квартиры (столбец `days_exposition`)»:\n",
    "    - построена гистограмма;\n",
    "    - рассчитаны среднее и медиана;\n",
    "    - описано, сколько обычно занимает продажа и указано, какие продажи можно считать быстрыми, а какие — необычно долгими.\n",
    "- [x]  Выполнено задание «Определите факторы, которые больше всего влияют на общую (полную) стоимость объекта». Построены графики, которые показывают зависимость цены от параметров:\n",
    "        - общая площадь;\n",
    "        - жилая площадь;\n",
    "        - площадь кухни;\n",
    "        - количество комнат;\n",
    "        - тип этажа, на котором расположена квартира (первый, последний, другой);\n",
    "        - дата размещения (день недели, месяц, год).\n",
    "- [x]  Выполнено задание «Посчитайте среднюю цену одного квадратного метра в 10 населённых пунктах с наибольшим числом объявлений»:\n",
    "    - выделены населённые пункты с самой высокой и низкой стоимостью квадратного метра.\n",
    "- [x]  Выполнено задание «Выделите квартиры в Санкт-Петербурге с помощью столбца `locality_name` и вычислите их среднюю стоимость на разном удалении от центра»:\n",
    "    -  учтён каждый километр расстояния, известны средние цены квартир в одном километре от центра, в двух и так далее;\n",
    "    -  описано, как стоимость объекта зависит от расстояния до центра города;\n",
    "    -  построен график изменения средней цены для каждого километра от центра Петербурга.\n",
    "- [x]  На каждом этапе сделаны промежуточные выводы.\n",
    "- [x]  В конце проекта сделан общий вывод."
   ]
  }
 ],
 "metadata": {
  "ExecuteTimeLog": [
   {
    "duration": 79,
    "start_time": "2023-12-28T20:05:49.347Z"
   },
   {
    "duration": 674,
    "start_time": "2023-12-28T20:06:53.254Z"
   },
   {
    "duration": 98,
    "start_time": "2023-12-28T20:07:06.252Z"
   },
   {
    "duration": 91,
    "start_time": "2023-12-28T20:07:24.075Z"
   },
   {
    "duration": 95,
    "start_time": "2023-12-28T20:07:50.613Z"
   },
   {
    "duration": 456,
    "start_time": "2023-12-28T20:08:34.357Z"
   },
   {
    "duration": 183,
    "start_time": "2023-12-28T20:10:07.970Z"
   },
   {
    "duration": 1933,
    "start_time": "2023-12-28T20:13:57.439Z"
   },
   {
    "duration": 1845,
    "start_time": "2023-12-28T20:15:24.632Z"
   },
   {
    "duration": 1929,
    "start_time": "2023-12-28T20:16:26.740Z"
   },
   {
    "duration": 28,
    "start_time": "2023-12-28T20:30:38.511Z"
   },
   {
    "duration": 10,
    "start_time": "2023-12-28T20:31:06.639Z"
   },
   {
    "duration": 3,
    "start_time": "2023-12-28T20:31:16.147Z"
   },
   {
    "duration": 11,
    "start_time": "2023-12-28T20:31:27.287Z"
   },
   {
    "duration": 100,
    "start_time": "2023-12-28T20:33:36.246Z"
   },
   {
    "duration": 1869,
    "start_time": "2023-12-28T20:34:10.086Z"
   },
   {
    "duration": 5,
    "start_time": "2023-12-28T21:20:50.831Z"
   },
   {
    "duration": 9,
    "start_time": "2023-12-28T21:21:12.760Z"
   },
   {
    "duration": 7,
    "start_time": "2023-12-28T21:21:24.144Z"
   },
   {
    "duration": 10,
    "start_time": "2023-12-28T21:21:57.602Z"
   },
   {
    "duration": 2587,
    "start_time": "2023-12-28T21:22:11.993Z"
   },
   {
    "duration": 9,
    "start_time": "2023-12-28T21:22:14.582Z"
   },
   {
    "duration": 25,
    "start_time": "2023-12-28T21:22:14.592Z"
   },
   {
    "duration": 11,
    "start_time": "2023-12-28T21:22:33.885Z"
   },
   {
    "duration": 13,
    "start_time": "2023-12-28T21:24:05.265Z"
   },
   {
    "duration": 9,
    "start_time": "2023-12-28T21:24:47.334Z"
   },
   {
    "duration": 9,
    "start_time": "2023-12-28T21:25:32.621Z"
   },
   {
    "duration": 2539,
    "start_time": "2023-12-28T21:25:41.573Z"
   },
   {
    "duration": 11,
    "start_time": "2023-12-28T21:25:44.114Z"
   },
   {
    "duration": 8,
    "start_time": "2023-12-28T21:25:44.126Z"
   },
   {
    "duration": 7,
    "start_time": "2023-12-28T21:25:54.681Z"
   },
   {
    "duration": 6,
    "start_time": "2023-12-28T21:26:01.498Z"
   },
   {
    "duration": 7,
    "start_time": "2023-12-28T21:26:14.677Z"
   },
   {
    "duration": 7,
    "start_time": "2023-12-28T21:28:07.131Z"
   },
   {
    "duration": 7,
    "start_time": "2023-12-28T21:28:18.310Z"
   },
   {
    "duration": 620,
    "start_time": "2023-12-28T21:29:11.844Z"
   },
   {
    "duration": 92,
    "start_time": "2023-12-28T21:30:24.261Z"
   },
   {
    "duration": 104,
    "start_time": "2023-12-28T21:34:56.808Z"
   },
   {
    "duration": 6,
    "start_time": "2023-12-28T21:36:17.836Z"
   },
   {
    "duration": 11,
    "start_time": "2023-12-28T21:36:35.701Z"
   },
   {
    "duration": 7,
    "start_time": "2023-12-28T21:37:07.252Z"
   },
   {
    "duration": 4,
    "start_time": "2023-12-28T21:38:04.628Z"
   },
   {
    "duration": 20,
    "start_time": "2023-12-28T21:38:30.988Z"
   },
   {
    "duration": 12,
    "start_time": "2023-12-28T21:39:16.050Z"
   },
   {
    "duration": 16,
    "start_time": "2023-12-28T21:41:06.903Z"
   },
   {
    "duration": 15,
    "start_time": "2023-12-28T21:42:52.543Z"
   },
   {
    "duration": 88,
    "start_time": "2023-12-28T21:48:55.926Z"
   },
   {
    "duration": 98,
    "start_time": "2023-12-28T21:51:35.808Z"
   },
   {
    "duration": 100,
    "start_time": "2023-12-28T21:52:10.786Z"
   },
   {
    "duration": 199,
    "start_time": "2023-12-28T21:53:10.369Z"
   },
   {
    "duration": 4,
    "start_time": "2023-12-28T21:54:02.408Z"
   },
   {
    "duration": 206,
    "start_time": "2023-12-28T21:54:10.678Z"
   },
   {
    "duration": 20,
    "start_time": "2023-12-28T21:55:08.991Z"
   },
   {
    "duration": 5,
    "start_time": "2023-12-28T21:55:44.751Z"
   },
   {
    "duration": 18,
    "start_time": "2023-12-28T21:57:29.742Z"
   },
   {
    "duration": 14,
    "start_time": "2023-12-28T21:57:45.813Z"
   },
   {
    "duration": 17,
    "start_time": "2023-12-28T21:59:19.223Z"
   },
   {
    "duration": 25,
    "start_time": "2023-12-28T21:59:42.503Z"
   },
   {
    "duration": 16,
    "start_time": "2023-12-28T22:00:27.246Z"
   },
   {
    "duration": 23,
    "start_time": "2023-12-28T22:01:48.786Z"
   },
   {
    "duration": 6,
    "start_time": "2023-12-28T22:02:44.119Z"
   },
   {
    "duration": 3,
    "start_time": "2023-12-28T22:05:24.290Z"
   },
   {
    "duration": 5,
    "start_time": "2023-12-28T22:05:27.029Z"
   },
   {
    "duration": 19,
    "start_time": "2023-12-28T22:09:36.838Z"
   },
   {
    "duration": 17,
    "start_time": "2023-12-28T22:13:29.523Z"
   },
   {
    "duration": 3,
    "start_time": "2023-12-28T22:21:30.071Z"
   },
   {
    "duration": 14,
    "start_time": "2023-12-28T22:22:08.155Z"
   },
   {
    "duration": 106,
    "start_time": "2023-12-28T22:23:05.564Z"
   },
   {
    "duration": 10,
    "start_time": "2023-12-28T22:23:54.749Z"
   },
   {
    "duration": 10,
    "start_time": "2023-12-28T22:24:05.888Z"
   },
   {
    "duration": 10,
    "start_time": "2023-12-28T22:37:28.221Z"
   },
   {
    "duration": 2653,
    "start_time": "2023-12-28T22:37:37.919Z"
   },
   {
    "duration": 9,
    "start_time": "2023-12-28T22:37:40.574Z"
   },
   {
    "duration": 4,
    "start_time": "2023-12-28T22:37:40.584Z"
   },
   {
    "duration": 67,
    "start_time": "2023-12-28T22:37:40.590Z"
   },
   {
    "duration": 0,
    "start_time": "2023-12-28T22:37:40.659Z"
   },
   {
    "duration": 0,
    "start_time": "2023-12-28T22:37:40.660Z"
   },
   {
    "duration": 0,
    "start_time": "2023-12-28T22:37:40.661Z"
   },
   {
    "duration": 0,
    "start_time": "2023-12-28T22:37:40.662Z"
   },
   {
    "duration": 0,
    "start_time": "2023-12-28T22:37:40.663Z"
   },
   {
    "duration": 694,
    "start_time": "2023-12-28T22:38:41.615Z"
   },
   {
    "duration": 2675,
    "start_time": "2023-12-28T22:38:49.429Z"
   },
   {
    "duration": 9,
    "start_time": "2023-12-28T22:38:52.106Z"
   },
   {
    "duration": 4,
    "start_time": "2023-12-28T22:38:52.116Z"
   },
   {
    "duration": 766,
    "start_time": "2023-12-28T22:38:52.122Z"
   },
   {
    "duration": 2,
    "start_time": "2023-12-28T22:38:52.890Z"
   },
   {
    "duration": 21,
    "start_time": "2023-12-28T22:38:52.894Z"
   },
   {
    "duration": 5,
    "start_time": "2023-12-28T22:38:52.917Z"
   },
   {
    "duration": 22,
    "start_time": "2023-12-28T22:38:52.924Z"
   },
   {
    "duration": 149,
    "start_time": "2023-12-28T22:38:52.947Z"
   },
   {
    "duration": 7,
    "start_time": "2023-12-28T22:42:00.415Z"
   },
   {
    "duration": 9,
    "start_time": "2023-12-28T22:52:19.383Z"
   },
   {
    "duration": 29,
    "start_time": "2023-12-28T22:52:49.700Z"
   },
   {
    "duration": 33,
    "start_time": "2023-12-28T22:56:25.351Z"
   },
   {
    "duration": 8,
    "start_time": "2023-12-28T22:56:38.996Z"
   },
   {
    "duration": 7,
    "start_time": "2023-12-28T22:56:56.044Z"
   },
   {
    "duration": 2525,
    "start_time": "2023-12-28T22:57:27.427Z"
   },
   {
    "duration": 10,
    "start_time": "2023-12-28T22:57:29.954Z"
   },
   {
    "duration": 5,
    "start_time": "2023-12-28T22:57:29.965Z"
   },
   {
    "duration": 714,
    "start_time": "2023-12-28T22:57:29.971Z"
   },
   {
    "duration": 2,
    "start_time": "2023-12-28T22:57:30.687Z"
   },
   {
    "duration": 36,
    "start_time": "2023-12-28T22:57:30.691Z"
   },
   {
    "duration": 5,
    "start_time": "2023-12-28T22:57:30.728Z"
   },
   {
    "duration": 37,
    "start_time": "2023-12-28T22:57:30.734Z"
   },
   {
    "duration": 103,
    "start_time": "2023-12-28T22:57:30.773Z"
   },
   {
    "duration": 9,
    "start_time": "2023-12-28T22:57:43.192Z"
   },
   {
    "duration": 6,
    "start_time": "2023-12-28T22:57:48.201Z"
   },
   {
    "duration": 2,
    "start_time": "2023-12-28T22:58:37.640Z"
   },
   {
    "duration": 3,
    "start_time": "2023-12-28T22:58:41.968Z"
   },
   {
    "duration": 23,
    "start_time": "2023-12-28T22:58:49.007Z"
   },
   {
    "duration": 31,
    "start_time": "2023-12-28T22:58:52.083Z"
   },
   {
    "duration": 10,
    "start_time": "2023-12-28T22:59:10.239Z"
   },
   {
    "duration": 8,
    "start_time": "2023-12-28T22:59:31.679Z"
   },
   {
    "duration": 8,
    "start_time": "2023-12-28T23:00:50.985Z"
   },
   {
    "duration": 10,
    "start_time": "2023-12-28T23:01:26.374Z"
   },
   {
    "duration": 10,
    "start_time": "2023-12-28T23:02:02.502Z"
   },
   {
    "duration": 11,
    "start_time": "2023-12-28T23:02:24.884Z"
   },
   {
    "duration": 9,
    "start_time": "2023-12-28T23:02:33.832Z"
   },
   {
    "duration": 9,
    "start_time": "2023-12-28T23:03:06.608Z"
   },
   {
    "duration": 9,
    "start_time": "2023-12-28T23:03:22.269Z"
   },
   {
    "duration": 4,
    "start_time": "2023-12-28T23:04:22.007Z"
   },
   {
    "duration": 8,
    "start_time": "2023-12-28T23:04:27.561Z"
   },
   {
    "duration": 49,
    "start_time": "2023-12-29T20:41:28.791Z"
   },
   {
    "duration": 3011,
    "start_time": "2023-12-29T20:41:38.330Z"
   },
   {
    "duration": 10,
    "start_time": "2023-12-29T20:41:41.343Z"
   },
   {
    "duration": 13,
    "start_time": "2023-12-29T20:41:41.354Z"
   },
   {
    "duration": 741,
    "start_time": "2023-12-29T20:41:41.368Z"
   },
   {
    "duration": 3,
    "start_time": "2023-12-29T20:41:42.111Z"
   },
   {
    "duration": 26,
    "start_time": "2023-12-29T20:41:42.115Z"
   },
   {
    "duration": 4,
    "start_time": "2023-12-29T20:41:42.142Z"
   },
   {
    "duration": 19,
    "start_time": "2023-12-29T20:41:42.147Z"
   },
   {
    "duration": 28,
    "start_time": "2023-12-29T20:41:42.167Z"
   },
   {
    "duration": 2683,
    "start_time": "2023-12-29T20:54:57.494Z"
   },
   {
    "duration": 11,
    "start_time": "2023-12-29T20:55:00.179Z"
   },
   {
    "duration": 84,
    "start_time": "2023-12-29T20:55:00.191Z"
   },
   {
    "duration": 756,
    "start_time": "2023-12-29T20:55:00.277Z"
   },
   {
    "duration": 2,
    "start_time": "2023-12-29T20:55:01.035Z"
   },
   {
    "duration": 68,
    "start_time": "2023-12-29T20:55:01.039Z"
   },
   {
    "duration": 101,
    "start_time": "2023-12-29T20:55:01.109Z"
   },
   {
    "duration": 62,
    "start_time": "2023-12-29T20:55:01.212Z"
   },
   {
    "duration": 18,
    "start_time": "2023-12-29T20:58:44.974Z"
   },
   {
    "duration": 15,
    "start_time": "2023-12-29T20:59:53.209Z"
   },
   {
    "duration": 5,
    "start_time": "2023-12-29T21:03:06.605Z"
   },
   {
    "duration": 2616,
    "start_time": "2023-12-29T21:03:12.561Z"
   },
   {
    "duration": 9,
    "start_time": "2023-12-29T21:03:15.179Z"
   },
   {
    "duration": 30,
    "start_time": "2023-12-29T21:03:15.189Z"
   },
   {
    "duration": 714,
    "start_time": "2023-12-29T21:03:15.221Z"
   },
   {
    "duration": 2,
    "start_time": "2023-12-29T21:03:15.937Z"
   },
   {
    "duration": 30,
    "start_time": "2023-12-29T21:03:15.940Z"
   },
   {
    "duration": 21,
    "start_time": "2023-12-29T21:03:15.972Z"
   },
   {
    "duration": 6,
    "start_time": "2023-12-29T21:03:15.995Z"
   },
   {
    "duration": 5,
    "start_time": "2023-12-29T21:03:57.920Z"
   },
   {
    "duration": 4,
    "start_time": "2023-12-29T21:04:07.898Z"
   },
   {
    "duration": 6,
    "start_time": "2023-12-29T21:04:12.990Z"
   },
   {
    "duration": 212,
    "start_time": "2023-12-29T21:05:21.884Z"
   },
   {
    "duration": 15,
    "start_time": "2023-12-29T21:05:26.629Z"
   },
   {
    "duration": 13,
    "start_time": "2023-12-29T21:09:32.193Z"
   },
   {
    "duration": 16,
    "start_time": "2023-12-29T21:09:50.009Z"
   },
   {
    "duration": 80,
    "start_time": "2023-12-29T21:10:14.259Z"
   },
   {
    "duration": 13,
    "start_time": "2023-12-29T21:10:21.655Z"
   },
   {
    "duration": 14,
    "start_time": "2023-12-29T21:10:38.331Z"
   },
   {
    "duration": 13,
    "start_time": "2023-12-29T21:11:00.040Z"
   },
   {
    "duration": 14,
    "start_time": "2023-12-29T21:11:19.793Z"
   },
   {
    "duration": 23,
    "start_time": "2023-12-29T21:12:21.956Z"
   },
   {
    "duration": 21,
    "start_time": "2023-12-29T21:12:46.995Z"
   },
   {
    "duration": 19,
    "start_time": "2023-12-29T21:15:27.158Z"
   },
   {
    "duration": 16,
    "start_time": "2023-12-29T21:15:50.414Z"
   },
   {
    "duration": 18,
    "start_time": "2023-12-29T21:15:53.986Z"
   },
   {
    "duration": 106,
    "start_time": "2023-12-29T21:16:19.939Z"
   },
   {
    "duration": 16,
    "start_time": "2023-12-29T21:16:24.304Z"
   },
   {
    "duration": 15,
    "start_time": "2023-12-29T21:16:34.034Z"
   },
   {
    "duration": 32,
    "start_time": "2023-12-29T21:16:50.853Z"
   },
   {
    "duration": 24,
    "start_time": "2023-12-29T21:17:09.650Z"
   },
   {
    "duration": 29,
    "start_time": "2023-12-29T21:17:37.884Z"
   },
   {
    "duration": 30,
    "start_time": "2023-12-29T21:17:52.363Z"
   },
   {
    "duration": 30,
    "start_time": "2023-12-29T21:18:06.828Z"
   },
   {
    "duration": 27,
    "start_time": "2023-12-29T21:19:22.569Z"
   },
   {
    "duration": 26,
    "start_time": "2023-12-29T21:19:40.573Z"
   },
   {
    "duration": 2633,
    "start_time": "2023-12-29T21:19:54.564Z"
   },
   {
    "duration": 9,
    "start_time": "2023-12-29T21:19:57.199Z"
   },
   {
    "duration": 44,
    "start_time": "2023-12-29T21:19:57.210Z"
   },
   {
    "duration": 779,
    "start_time": "2023-12-29T21:19:57.256Z"
   },
   {
    "duration": 2,
    "start_time": "2023-12-29T21:19:58.037Z"
   },
   {
    "duration": 19,
    "start_time": "2023-12-29T21:19:58.041Z"
   },
   {
    "duration": 19,
    "start_time": "2023-12-29T21:19:58.062Z"
   },
   {
    "duration": 306,
    "start_time": "2023-12-29T21:19:58.083Z"
   },
   {
    "duration": 195,
    "start_time": "2023-12-29T21:20:35.891Z"
   },
   {
    "duration": 345,
    "start_time": "2023-12-29T21:20:45.688Z"
   },
   {
    "duration": 197,
    "start_time": "2023-12-29T21:20:55.641Z"
   },
   {
    "duration": 207,
    "start_time": "2023-12-29T21:21:49.882Z"
   },
   {
    "duration": 211,
    "start_time": "2023-12-29T21:22:03.492Z"
   },
   {
    "duration": 191,
    "start_time": "2023-12-29T21:22:19.662Z"
   },
   {
    "duration": 190,
    "start_time": "2023-12-29T21:22:22.912Z"
   },
   {
    "duration": 200,
    "start_time": "2023-12-29T21:22:36.608Z"
   },
   {
    "duration": 214,
    "start_time": "2023-12-29T21:23:21.458Z"
   },
   {
    "duration": 191,
    "start_time": "2023-12-29T21:23:35.215Z"
   },
   {
    "duration": 194,
    "start_time": "2023-12-29T21:24:09.808Z"
   },
   {
    "duration": 195,
    "start_time": "2023-12-29T21:24:38.088Z"
   },
   {
    "duration": 2293,
    "start_time": "2023-12-29T21:31:38.828Z"
   },
   {
    "duration": 2102,
    "start_time": "2023-12-29T21:33:06.873Z"
   },
   {
    "duration": 2933,
    "start_time": "2023-12-29T21:33:20.089Z"
   },
   {
    "duration": 442,
    "start_time": "2023-12-29T21:35:01.267Z"
   },
   {
    "duration": 1318,
    "start_time": "2023-12-29T21:36:03.155Z"
   },
   {
    "duration": 8,
    "start_time": "2023-12-29T21:43:11.926Z"
   },
   {
    "duration": 12,
    "start_time": "2023-12-29T21:43:30.199Z"
   },
   {
    "duration": 433,
    "start_time": "2023-12-29T21:51:04.743Z"
   },
   {
    "duration": 485,
    "start_time": "2023-12-29T21:51:35.553Z"
   },
   {
    "duration": 571,
    "start_time": "2023-12-29T21:53:38.974Z"
   },
   {
    "duration": 8,
    "start_time": "2023-12-29T21:53:53.959Z"
   },
   {
    "duration": 109,
    "start_time": "2023-12-29T22:03:24.615Z"
   },
   {
    "duration": 221,
    "start_time": "2023-12-29T22:03:53.088Z"
   },
   {
    "duration": 124,
    "start_time": "2023-12-29T22:08:04.791Z"
   },
   {
    "duration": 136,
    "start_time": "2023-12-29T22:12:28.059Z"
   },
   {
    "duration": 60,
    "start_time": "2024-01-04T10:42:25.221Z"
   },
   {
    "duration": 3136,
    "start_time": "2024-01-04T10:42:31.266Z"
   },
   {
    "duration": 10,
    "start_time": "2024-01-04T10:42:34.404Z"
   },
   {
    "duration": 12,
    "start_time": "2024-01-04T10:42:34.415Z"
   },
   {
    "duration": 793,
    "start_time": "2024-01-04T10:42:34.429Z"
   },
   {
    "duration": 3,
    "start_time": "2024-01-04T10:42:35.223Z"
   },
   {
    "duration": 36,
    "start_time": "2024-01-04T10:42:35.227Z"
   },
   {
    "duration": 19,
    "start_time": "2024-01-04T10:42:35.265Z"
   },
   {
    "duration": 250,
    "start_time": "2024-01-04T10:42:35.285Z"
   },
   {
    "duration": 37,
    "start_time": "2024-01-04T10:42:35.536Z"
   },
   {
    "duration": 5,
    "start_time": "2024-01-04T10:49:31.732Z"
   },
   {
    "duration": 4,
    "start_time": "2024-01-04T10:49:42.780Z"
   },
   {
    "duration": 3,
    "start_time": "2024-01-04T10:49:47.265Z"
   },
   {
    "duration": 29,
    "start_time": "2024-01-04T10:51:43.386Z"
   },
   {
    "duration": 319,
    "start_time": "2024-01-04T10:53:31.198Z"
   },
   {
    "duration": 286,
    "start_time": "2024-01-04T10:53:54.736Z"
   },
   {
    "duration": 323,
    "start_time": "2024-01-04T10:55:09.346Z"
   },
   {
    "duration": 374,
    "start_time": "2024-01-04T10:55:15.361Z"
   },
   {
    "duration": 502,
    "start_time": "2024-01-04T10:55:33.412Z"
   },
   {
    "duration": 353,
    "start_time": "2024-01-04T10:55:47.245Z"
   },
   {
    "duration": 321,
    "start_time": "2024-01-04T10:59:03.064Z"
   },
   {
    "duration": 407,
    "start_time": "2024-01-04T11:00:58.636Z"
   },
   {
    "duration": 325,
    "start_time": "2024-01-04T11:01:02.897Z"
   },
   {
    "duration": 374,
    "start_time": "2024-01-04T11:01:06.327Z"
   },
   {
    "duration": 484,
    "start_time": "2024-01-04T11:01:11.368Z"
   },
   {
    "duration": 404,
    "start_time": "2024-01-04T11:01:23.283Z"
   },
   {
    "duration": 416,
    "start_time": "2024-01-04T11:01:41.032Z"
   },
   {
    "duration": 364,
    "start_time": "2024-01-04T11:01:50.714Z"
   },
   {
    "duration": 332,
    "start_time": "2024-01-04T11:03:26.576Z"
   },
   {
    "duration": 315,
    "start_time": "2024-01-04T11:03:47.145Z"
   },
   {
    "duration": 450,
    "start_time": "2024-01-04T11:03:57.775Z"
   },
   {
    "duration": 333,
    "start_time": "2024-01-04T11:04:06.594Z"
   },
   {
    "duration": 373,
    "start_time": "2024-01-04T11:04:12.953Z"
   },
   {
    "duration": 333,
    "start_time": "2024-01-04T11:04:24.262Z"
   },
   {
    "duration": 112,
    "start_time": "2024-01-04T11:09:03.041Z"
   },
   {
    "duration": 301,
    "start_time": "2024-01-04T11:09:16.532Z"
   },
   {
    "duration": 434,
    "start_time": "2024-01-04T11:09:31.294Z"
   },
   {
    "duration": 267,
    "start_time": "2024-01-04T11:09:58.944Z"
   },
   {
    "duration": 273,
    "start_time": "2024-01-04T11:10:23.255Z"
   },
   {
    "duration": 327,
    "start_time": "2024-01-04T11:10:31.031Z"
   },
   {
    "duration": 203,
    "start_time": "2024-01-04T11:11:30.059Z"
   },
   {
    "duration": 267,
    "start_time": "2024-01-04T11:11:35.161Z"
   },
   {
    "duration": 248,
    "start_time": "2024-01-04T11:11:49.562Z"
   },
   {
    "duration": 272,
    "start_time": "2024-01-04T11:12:02.459Z"
   },
   {
    "duration": 401,
    "start_time": "2024-01-04T11:12:16.551Z"
   },
   {
    "duration": 271,
    "start_time": "2024-01-04T11:12:20.586Z"
   },
   {
    "duration": 302,
    "start_time": "2024-01-04T11:12:38.705Z"
   },
   {
    "duration": 266,
    "start_time": "2024-01-04T11:22:15.616Z"
   },
   {
    "duration": 383,
    "start_time": "2024-01-04T11:25:42.432Z"
   },
   {
    "duration": 322,
    "start_time": "2024-01-04T11:30:19.266Z"
   },
   {
    "duration": 303,
    "start_time": "2024-01-04T11:38:21.223Z"
   },
   {
    "duration": 406,
    "start_time": "2024-01-04T11:49:39.257Z"
   },
   {
    "duration": 1081,
    "start_time": "2024-01-04T12:09:48.383Z"
   },
   {
    "duration": 1447,
    "start_time": "2024-01-04T12:12:39.802Z"
   },
   {
    "duration": 1407,
    "start_time": "2024-01-04T19:44:38.182Z"
   },
   {
    "duration": 2779,
    "start_time": "2024-01-04T19:44:56.692Z"
   },
   {
    "duration": 9,
    "start_time": "2024-01-04T19:44:59.473Z"
   },
   {
    "duration": 19,
    "start_time": "2024-01-04T19:44:59.483Z"
   },
   {
    "duration": 735,
    "start_time": "2024-01-04T19:44:59.503Z"
   },
   {
    "duration": 3,
    "start_time": "2024-01-04T19:45:00.239Z"
   },
   {
    "duration": 76,
    "start_time": "2024-01-04T19:45:00.243Z"
   },
   {
    "duration": 30,
    "start_time": "2024-01-04T19:45:00.321Z"
   },
   {
    "duration": 223,
    "start_time": "2024-01-04T19:45:00.353Z"
   },
   {
    "duration": 31,
    "start_time": "2024-01-04T19:45:00.577Z"
   },
   {
    "duration": 338,
    "start_time": "2024-01-04T19:45:00.610Z"
   },
   {
    "duration": 303,
    "start_time": "2024-01-04T19:45:00.949Z"
   },
   {
    "duration": 1290,
    "start_time": "2024-01-04T19:45:01.254Z"
   },
   {
    "duration": 10,
    "start_time": "2024-01-04T19:45:22.900Z"
   },
   {
    "duration": 94,
    "start_time": "2024-01-04T19:45:33.589Z"
   },
   {
    "duration": 100,
    "start_time": "2024-01-04T19:51:46.388Z"
   },
   {
    "duration": 110,
    "start_time": "2024-01-04T19:55:49.662Z"
   },
   {
    "duration": 103,
    "start_time": "2024-01-04T19:56:05.555Z"
   },
   {
    "duration": 105,
    "start_time": "2024-01-04T19:56:17.528Z"
   },
   {
    "duration": 134,
    "start_time": "2024-01-04T19:57:50.229Z"
   },
   {
    "duration": 139,
    "start_time": "2024-01-04T19:58:32.111Z"
   },
   {
    "duration": 15,
    "start_time": "2024-01-04T19:58:54.552Z"
   },
   {
    "duration": 115,
    "start_time": "2024-01-04T19:59:22.554Z"
   },
   {
    "duration": 110,
    "start_time": "2024-01-04T20:00:14.471Z"
   },
   {
    "duration": 75,
    "start_time": "2024-01-04T20:01:26.738Z"
   },
   {
    "duration": 107,
    "start_time": "2024-01-04T20:01:43.951Z"
   },
   {
    "duration": 397,
    "start_time": "2024-01-04T20:15:08.466Z"
   },
   {
    "duration": 391,
    "start_time": "2024-01-04T20:19:43.130Z"
   },
   {
    "duration": 706,
    "start_time": "2024-01-04T20:20:42.799Z"
   },
   {
    "duration": 1160,
    "start_time": "2024-01-04T20:21:53.667Z"
   },
   {
    "duration": 609,
    "start_time": "2024-01-04T20:22:16.104Z"
   },
   {
    "duration": 299,
    "start_time": "2024-01-04T20:22:49.987Z"
   },
   {
    "duration": 518,
    "start_time": "2024-01-04T20:22:54.243Z"
   },
   {
    "duration": 74,
    "start_time": "2024-01-04T20:27:17.635Z"
   },
   {
    "duration": 35966,
    "start_time": "2024-01-04T21:21:35.666Z"
   },
   {
    "duration": 35978,
    "start_time": "2024-01-04T21:41:39.213Z"
   },
   {
    "duration": 0,
    "start_time": "2024-01-04T21:44:42.341Z"
   },
   {
    "duration": 34869,
    "start_time": "2024-01-04T21:46:12.253Z"
   },
   {
    "duration": 35185,
    "start_time": "2024-01-04T21:49:53.877Z"
   },
   {
    "duration": 5,
    "start_time": "2024-01-04T21:51:39.246Z"
   },
   {
    "duration": 30,
    "start_time": "2024-01-04T21:51:52.546Z"
   },
   {
    "duration": 31,
    "start_time": "2024-01-04T21:52:31.464Z"
   },
   {
    "duration": 32,
    "start_time": "2024-01-04T21:52:48.478Z"
   },
   {
    "duration": 32,
    "start_time": "2024-01-04T21:53:02.229Z"
   },
   {
    "duration": 315,
    "start_time": "2024-01-04T21:53:45.422Z"
   },
   {
    "duration": 435,
    "start_time": "2024-01-04T21:54:30.707Z"
   },
   {
    "duration": 316,
    "start_time": "2024-01-04T21:54:41.515Z"
   },
   {
    "duration": 324,
    "start_time": "2024-01-04T21:55:05.846Z"
   },
   {
    "duration": 460,
    "start_time": "2024-01-04T22:06:24.713Z"
   },
   {
    "duration": 473,
    "start_time": "2024-01-04T22:07:35.730Z"
   },
   {
    "duration": 191,
    "start_time": "2024-01-04T22:09:23.183Z"
   },
   {
    "duration": 269,
    "start_time": "2024-01-04T22:09:47.208Z"
   },
   {
    "duration": 212,
    "start_time": "2024-01-04T22:09:54.286Z"
   },
   {
    "duration": 208,
    "start_time": "2024-01-04T22:10:01.193Z"
   },
   {
    "duration": 628,
    "start_time": "2024-01-04T22:10:16.683Z"
   },
   {
    "duration": 418,
    "start_time": "2024-01-04T22:10:56.460Z"
   },
   {
    "duration": 526,
    "start_time": "2024-01-04T22:11:14.183Z"
   },
   {
    "duration": 410,
    "start_time": "2024-01-04T22:12:04.195Z"
   },
   {
    "duration": 426,
    "start_time": "2024-01-04T22:12:19.644Z"
   },
   {
    "duration": 997,
    "start_time": "2024-01-04T22:12:55.777Z"
   },
   {
    "duration": 1441,
    "start_time": "2024-01-04T22:13:12.204Z"
   },
   {
    "duration": 2348,
    "start_time": "2024-01-04T22:14:05.308Z"
   },
   {
    "duration": 2828,
    "start_time": "2024-01-04T22:14:38.177Z"
   },
   {
    "duration": 1880,
    "start_time": "2024-01-04T22:15:33.680Z"
   },
   {
    "duration": 210,
    "start_time": "2024-01-04T22:17:12.063Z"
   },
   {
    "duration": 0,
    "start_time": "2024-01-04T22:22:18.867Z"
   },
   {
    "duration": 41,
    "start_time": "2024-01-04T22:22:53.676Z"
   },
   {
    "duration": 1165,
    "start_time": "2024-01-04T22:22:56.269Z"
   },
   {
    "duration": 18,
    "start_time": "2024-01-04T22:24:13.017Z"
   },
   {
    "duration": 186,
    "start_time": "2024-01-04T22:26:25.008Z"
   },
   {
    "duration": 251,
    "start_time": "2024-01-04T22:27:43.414Z"
   },
   {
    "duration": 53,
    "start_time": "2024-01-05T20:14:29.002Z"
   },
   {
    "duration": 3304,
    "start_time": "2024-01-05T20:14:37.689Z"
   },
   {
    "duration": 10,
    "start_time": "2024-01-05T20:14:40.995Z"
   },
   {
    "duration": 5,
    "start_time": "2024-01-05T20:14:41.007Z"
   },
   {
    "duration": 764,
    "start_time": "2024-01-05T20:14:41.014Z"
   },
   {
    "duration": 3,
    "start_time": "2024-01-05T20:14:41.780Z"
   },
   {
    "duration": 22,
    "start_time": "2024-01-05T20:14:41.784Z"
   },
   {
    "duration": 22,
    "start_time": "2024-01-05T20:14:41.822Z"
   },
   {
    "duration": 243,
    "start_time": "2024-01-05T20:14:41.846Z"
   },
   {
    "duration": 43,
    "start_time": "2024-01-05T20:14:42.091Z"
   },
   {
    "duration": 690,
    "start_time": "2024-01-05T20:14:42.138Z"
   },
   {
    "duration": 368,
    "start_time": "2024-01-05T20:14:42.830Z"
   },
   {
    "duration": 584,
    "start_time": "2024-01-05T20:14:43.200Z"
   },
   {
    "duration": 38277,
    "start_time": "2024-01-05T20:14:43.786Z"
   },
   {
    "duration": 478,
    "start_time": "2024-01-05T20:15:22.065Z"
   },
   {
    "duration": 2099,
    "start_time": "2024-01-05T20:15:22.545Z"
   },
   {
    "duration": 393,
    "start_time": "2024-01-05T20:15:24.646Z"
   },
   {
    "duration": 49,
    "start_time": "2024-01-05T20:15:25.041Z"
   },
   {
    "duration": 1231,
    "start_time": "2024-01-05T20:15:25.092Z"
   },
   {
    "duration": 22,
    "start_time": "2024-01-05T20:15:26.325Z"
   },
   {
    "duration": 307,
    "start_time": "2024-01-05T20:15:26.349Z"
   },
   {
    "duration": 2855,
    "start_time": "2024-01-05T20:20:55.346Z"
   },
   {
    "duration": 11,
    "start_time": "2024-01-05T20:20:58.204Z"
   },
   {
    "duration": 6,
    "start_time": "2024-01-05T20:20:58.216Z"
   },
   {
    "duration": 790,
    "start_time": "2024-01-05T20:20:58.224Z"
   },
   {
    "duration": 2,
    "start_time": "2024-01-05T20:20:59.022Z"
   },
   {
    "duration": 26,
    "start_time": "2024-01-05T20:20:59.026Z"
   },
   {
    "duration": 20,
    "start_time": "2024-01-05T20:20:59.054Z"
   },
   {
    "duration": 235,
    "start_time": "2024-01-05T20:20:59.076Z"
   },
   {
    "duration": 34,
    "start_time": "2024-01-05T20:20:59.313Z"
   },
   {
    "duration": 705,
    "start_time": "2024-01-05T20:20:59.350Z"
   },
   {
    "duration": 365,
    "start_time": "2024-01-05T20:21:00.057Z"
   },
   {
    "duration": 607,
    "start_time": "2024-01-05T20:21:00.424Z"
   },
   {
    "duration": 2,
    "start_time": "2024-01-05T20:21:01.033Z"
   },
   {
    "duration": 431,
    "start_time": "2024-01-05T20:21:01.037Z"
   },
   {
    "duration": 2192,
    "start_time": "2024-01-05T20:21:01.470Z"
   },
   {
    "duration": 544,
    "start_time": "2024-01-05T20:21:03.665Z"
   },
   {
    "duration": 68,
    "start_time": "2024-01-05T20:21:04.211Z"
   },
   {
    "duration": 1211,
    "start_time": "2024-01-05T20:21:04.281Z"
   },
   {
    "duration": 42,
    "start_time": "2024-01-05T20:21:05.494Z"
   },
   {
    "duration": 409,
    "start_time": "2024-01-05T20:21:05.538Z"
   },
   {
    "duration": 5,
    "start_time": "2024-01-05T20:21:47.362Z"
   },
   {
    "duration": 5,
    "start_time": "2024-01-05T20:21:55.562Z"
   },
   {
    "duration": 2344,
    "start_time": "2024-01-05T20:41:26.403Z"
   },
   {
    "duration": 2351,
    "start_time": "2024-01-05T20:45:31.373Z"
   },
   {
    "duration": 2081,
    "start_time": "2024-01-05T20:45:58.093Z"
   },
   {
    "duration": 222,
    "start_time": "2024-01-05T20:48:27.714Z"
   },
   {
    "duration": 1202,
    "start_time": "2024-01-05T20:54:26.916Z"
   },
   {
    "duration": 76,
    "start_time": "2024-01-05T21:10:26.308Z"
   },
   {
    "duration": 22,
    "start_time": "2024-01-05T21:20:51.811Z"
   },
   {
    "duration": 333,
    "start_time": "2024-01-05T21:30:37.415Z"
   },
   {
    "duration": 237,
    "start_time": "2024-01-05T21:41:18.129Z"
   },
   {
    "duration": 425,
    "start_time": "2024-01-05T21:41:34.667Z"
   },
   {
    "duration": 2889,
    "start_time": "2024-01-05T21:48:56.892Z"
   },
   {
    "duration": 11,
    "start_time": "2024-01-05T21:48:59.783Z"
   },
   {
    "duration": 13,
    "start_time": "2024-01-05T21:48:59.795Z"
   },
   {
    "duration": 783,
    "start_time": "2024-01-05T21:48:59.809Z"
   },
   {
    "duration": 2,
    "start_time": "2024-01-05T21:49:00.595Z"
   },
   {
    "duration": 40,
    "start_time": "2024-01-05T21:49:00.598Z"
   },
   {
    "duration": 53,
    "start_time": "2024-01-05T21:49:00.640Z"
   },
   {
    "duration": 265,
    "start_time": "2024-01-05T21:49:00.696Z"
   },
   {
    "duration": 33,
    "start_time": "2024-01-05T21:49:00.963Z"
   },
   {
    "duration": 425,
    "start_time": "2024-01-05T21:49:00.998Z"
   },
   {
    "duration": 2157,
    "start_time": "2024-01-05T21:49:01.425Z"
   },
   {
    "duration": 226,
    "start_time": "2024-01-05T21:49:03.583Z"
   },
   {
    "duration": 52,
    "start_time": "2024-01-05T21:49:03.811Z"
   },
   {
    "duration": 1352,
    "start_time": "2024-01-05T21:49:03.866Z"
   },
   {
    "duration": 21,
    "start_time": "2024-01-05T21:49:05.221Z"
   },
   {
    "duration": 313,
    "start_time": "2024-01-05T21:49:05.244Z"
   },
   {
    "duration": 1280,
    "start_time": "2024-01-05T21:50:08.827Z"
   },
   {
    "duration": 2092,
    "start_time": "2024-01-05T21:50:27.111Z"
   },
   {
    "duration": 2840,
    "start_time": "2024-01-05T21:50:47.248Z"
   },
   {
    "duration": 10,
    "start_time": "2024-01-05T21:50:50.090Z"
   },
   {
    "duration": 33,
    "start_time": "2024-01-05T21:50:50.102Z"
   },
   {
    "duration": 762,
    "start_time": "2024-01-05T21:50:50.137Z"
   },
   {
    "duration": 3,
    "start_time": "2024-01-05T21:50:50.901Z"
   },
   {
    "duration": 28,
    "start_time": "2024-01-05T21:50:50.906Z"
   },
   {
    "duration": 19,
    "start_time": "2024-01-05T21:50:50.936Z"
   },
   {
    "duration": 230,
    "start_time": "2024-01-05T21:50:50.957Z"
   },
   {
    "duration": 35,
    "start_time": "2024-01-05T21:50:51.189Z"
   },
   {
    "duration": 420,
    "start_time": "2024-01-05T21:50:51.226Z"
   },
   {
    "duration": 2141,
    "start_time": "2024-01-05T21:50:51.648Z"
   },
   {
    "duration": 223,
    "start_time": "2024-01-05T21:50:53.790Z"
   },
   {
    "duration": 46,
    "start_time": "2024-01-05T21:50:54.023Z"
   },
   {
    "duration": 1320,
    "start_time": "2024-01-05T21:50:54.071Z"
   },
   {
    "duration": 30,
    "start_time": "2024-01-05T21:50:55.393Z"
   },
   {
    "duration": 298,
    "start_time": "2024-01-05T21:50:55.424Z"
   },
   {
    "duration": 4216,
    "start_time": "2024-01-06T06:39:29.743Z"
   },
   {
    "duration": 68,
    "start_time": "2024-01-06T06:39:33.962Z"
   },
   {
    "duration": 6,
    "start_time": "2024-01-06T06:39:34.032Z"
   },
   {
    "duration": 1493,
    "start_time": "2024-01-06T06:39:34.039Z"
   },
   {
    "duration": 3,
    "start_time": "2024-01-06T06:39:35.534Z"
   },
   {
    "duration": 91,
    "start_time": "2024-01-06T06:39:35.538Z"
   },
   {
    "duration": 29,
    "start_time": "2024-01-06T06:39:35.631Z"
   },
   {
    "duration": 589,
    "start_time": "2024-01-06T06:39:35.662Z"
   },
   {
    "duration": 91,
    "start_time": "2024-01-06T06:39:36.253Z"
   },
   {
    "duration": 986,
    "start_time": "2024-01-06T06:39:36.346Z"
   },
   {
    "duration": 4884,
    "start_time": "2024-01-06T06:39:37.334Z"
   },
   {
    "duration": 506,
    "start_time": "2024-01-06T06:39:42.220Z"
   },
   {
    "duration": 116,
    "start_time": "2024-01-06T06:39:42.728Z"
   },
   {
    "duration": 2880,
    "start_time": "2024-01-06T06:39:42.846Z"
   },
   {
    "duration": 21,
    "start_time": "2024-01-06T06:39:45.732Z"
   },
   {
    "duration": 665,
    "start_time": "2024-01-06T06:39:45.757Z"
   },
   {
    "duration": 8,
    "start_time": "2024-01-06T06:42:57.620Z"
   },
   {
    "duration": 2781,
    "start_time": "2024-01-06T06:43:23.474Z"
   },
   {
    "duration": 9,
    "start_time": "2024-01-06T06:43:26.256Z"
   },
   {
    "duration": 7,
    "start_time": "2024-01-06T06:43:26.267Z"
   },
   {
    "duration": 753,
    "start_time": "2024-01-06T06:43:26.275Z"
   },
   {
    "duration": 3,
    "start_time": "2024-01-06T06:43:27.032Z"
   },
   {
    "duration": 20,
    "start_time": "2024-01-06T06:43:27.036Z"
   },
   {
    "duration": 17,
    "start_time": "2024-01-06T06:43:27.058Z"
   },
   {
    "duration": 229,
    "start_time": "2024-01-06T06:43:27.077Z"
   },
   {
    "duration": 39,
    "start_time": "2024-01-06T06:43:27.308Z"
   },
   {
    "duration": 402,
    "start_time": "2024-01-06T06:43:27.349Z"
   },
   {
    "duration": 2103,
    "start_time": "2024-01-06T06:43:27.753Z"
   },
   {
    "duration": 86,
    "start_time": "2024-01-06T06:43:29.857Z"
   },
   {
    "duration": 107,
    "start_time": "2024-01-06T06:43:29.945Z"
   },
   {
    "duration": 0,
    "start_time": "2024-01-06T06:43:30.053Z"
   },
   {
    "duration": 0,
    "start_time": "2024-01-06T06:43:30.054Z"
   },
   {
    "duration": 0,
    "start_time": "2024-01-06T06:43:30.056Z"
   },
   {
    "duration": 0,
    "start_time": "2024-01-06T06:43:30.057Z"
   },
   {
    "duration": 0,
    "start_time": "2024-01-06T06:43:30.058Z"
   },
   {
    "duration": 2772,
    "start_time": "2024-01-06T06:44:23.703Z"
   },
   {
    "duration": 11,
    "start_time": "2024-01-06T06:44:26.477Z"
   },
   {
    "duration": 6,
    "start_time": "2024-01-06T06:44:26.490Z"
   },
   {
    "duration": 740,
    "start_time": "2024-01-06T06:44:26.498Z"
   },
   {
    "duration": 3,
    "start_time": "2024-01-06T06:44:27.239Z"
   },
   {
    "duration": 16,
    "start_time": "2024-01-06T06:44:27.243Z"
   },
   {
    "duration": 17,
    "start_time": "2024-01-06T06:44:27.261Z"
   },
   {
    "duration": 234,
    "start_time": "2024-01-06T06:44:27.280Z"
   },
   {
    "duration": 29,
    "start_time": "2024-01-06T06:44:27.528Z"
   },
   {
    "duration": 398,
    "start_time": "2024-01-06T06:44:27.559Z"
   },
   {
    "duration": 2136,
    "start_time": "2024-01-06T06:44:27.959Z"
   },
   {
    "duration": 216,
    "start_time": "2024-01-06T06:44:30.097Z"
   },
   {
    "duration": 54,
    "start_time": "2024-01-06T06:44:30.315Z"
   },
   {
    "duration": 1378,
    "start_time": "2024-01-06T06:44:30.370Z"
   },
   {
    "duration": 19,
    "start_time": "2024-01-06T06:44:31.749Z"
   },
   {
    "duration": 289,
    "start_time": "2024-01-06T06:44:31.770Z"
   },
   {
    "duration": 20,
    "start_time": "2024-01-06T06:45:35.690Z"
   },
   {
    "duration": 1404,
    "start_time": "2024-01-06T17:43:29.967Z"
   },
   {
    "duration": 3,
    "start_time": "2024-01-06T17:43:58.513Z"
   },
   {
    "duration": 2389,
    "start_time": "2024-01-06T17:45:17.317Z"
   },
   {
    "duration": 1217,
    "start_time": "2024-01-06T17:45:37.906Z"
   },
   {
    "duration": 2201,
    "start_time": "2024-01-06T17:45:39.125Z"
   },
   {
    "duration": 9,
    "start_time": "2024-01-06T17:45:41.328Z"
   },
   {
    "duration": 31,
    "start_time": "2024-01-06T17:45:41.339Z"
   },
   {
    "duration": 202,
    "start_time": "2024-01-06T17:45:41.372Z"
   },
   {
    "duration": 2,
    "start_time": "2024-01-06T17:45:41.575Z"
   },
   {
    "duration": 15,
    "start_time": "2024-01-06T17:45:41.578Z"
   },
   {
    "duration": 16,
    "start_time": "2024-01-06T17:45:41.594Z"
   },
   {
    "duration": 278,
    "start_time": "2024-01-06T17:45:41.612Z"
   },
   {
    "duration": 31,
    "start_time": "2024-01-06T17:45:41.892Z"
   },
   {
    "duration": 426,
    "start_time": "2024-01-06T17:45:41.925Z"
   },
   {
    "duration": 2348,
    "start_time": "2024-01-06T17:45:42.353Z"
   },
   {
    "duration": 234,
    "start_time": "2024-01-06T17:45:44.703Z"
   },
   {
    "duration": 46,
    "start_time": "2024-01-06T17:45:44.943Z"
   },
   {
    "duration": 1352,
    "start_time": "2024-01-06T17:45:44.991Z"
   },
   {
    "duration": 27,
    "start_time": "2024-01-06T17:45:46.344Z"
   },
   {
    "duration": 328,
    "start_time": "2024-01-06T17:45:46.373Z"
   },
   {
    "duration": 110,
    "start_time": "2024-01-06T17:45:59.213Z"
   },
   {
    "duration": 37,
    "start_time": "2024-01-06T17:46:05.261Z"
   },
   {
    "duration": 2694,
    "start_time": "2024-01-06T17:47:08.460Z"
   },
   {
    "duration": 2612,
    "start_time": "2024-01-06T17:47:27.295Z"
   },
   {
    "duration": 5470,
    "start_time": "2024-01-06T17:47:41.670Z"
   },
   {
    "duration": 2164,
    "start_time": "2024-01-06T17:48:31.384Z"
   },
   {
    "duration": 1163,
    "start_time": "2024-01-06T18:01:24.117Z"
   },
   {
    "duration": 2300,
    "start_time": "2024-01-06T18:01:25.282Z"
   },
   {
    "duration": 45,
    "start_time": "2024-01-06T18:01:27.584Z"
   },
   {
    "duration": 28,
    "start_time": "2024-01-06T18:01:27.630Z"
   },
   {
    "duration": 5,
    "start_time": "2024-01-06T18:01:27.660Z"
   },
   {
    "duration": 219,
    "start_time": "2024-01-06T18:01:27.667Z"
   },
   {
    "duration": 3,
    "start_time": "2024-01-06T18:01:27.888Z"
   },
   {
    "duration": 11,
    "start_time": "2024-01-06T18:01:27.893Z"
   },
   {
    "duration": 1488,
    "start_time": "2024-01-06T18:01:27.906Z"
   },
   {
    "duration": 0,
    "start_time": "2024-01-06T18:01:29.396Z"
   },
   {
    "duration": 0,
    "start_time": "2024-01-06T18:01:29.397Z"
   },
   {
    "duration": 0,
    "start_time": "2024-01-06T18:01:29.398Z"
   },
   {
    "duration": 0,
    "start_time": "2024-01-06T18:01:29.399Z"
   },
   {
    "duration": 0,
    "start_time": "2024-01-06T18:01:29.400Z"
   },
   {
    "duration": 0,
    "start_time": "2024-01-06T18:01:29.401Z"
   },
   {
    "duration": 0,
    "start_time": "2024-01-06T18:01:29.402Z"
   },
   {
    "duration": 0,
    "start_time": "2024-01-06T18:01:29.403Z"
   },
   {
    "duration": 0,
    "start_time": "2024-01-06T18:01:29.404Z"
   },
   {
    "duration": 1,
    "start_time": "2024-01-06T18:01:29.404Z"
   },
   {
    "duration": 1173,
    "start_time": "2024-01-06T18:03:47.777Z"
   },
   {
    "duration": 2296,
    "start_time": "2024-01-06T18:03:48.952Z"
   },
   {
    "duration": 51,
    "start_time": "2024-01-06T18:03:51.250Z"
   },
   {
    "duration": 9,
    "start_time": "2024-01-06T18:03:51.303Z"
   },
   {
    "duration": 8,
    "start_time": "2024-01-06T18:03:51.313Z"
   },
   {
    "duration": 219,
    "start_time": "2024-01-06T18:03:51.323Z"
   },
   {
    "duration": 3,
    "start_time": "2024-01-06T18:03:51.544Z"
   },
   {
    "duration": 14,
    "start_time": "2024-01-06T18:03:51.550Z"
   },
   {
    "duration": 408,
    "start_time": "2024-01-06T18:03:51.566Z"
   },
   {
    "duration": 19,
    "start_time": "2024-01-06T18:03:51.976Z"
   },
   {
    "duration": 273,
    "start_time": "2024-01-06T18:03:51.997Z"
   },
   {
    "duration": 29,
    "start_time": "2024-01-06T18:03:52.271Z"
   },
   {
    "duration": 420,
    "start_time": "2024-01-06T18:03:52.302Z"
   },
   {
    "duration": 2229,
    "start_time": "2024-01-06T18:03:52.724Z"
   },
   {
    "duration": 225,
    "start_time": "2024-01-06T18:03:54.954Z"
   },
   {
    "duration": 45,
    "start_time": "2024-01-06T18:03:55.180Z"
   },
   {
    "duration": 1327,
    "start_time": "2024-01-06T18:03:55.227Z"
   },
   {
    "duration": 23,
    "start_time": "2024-01-06T18:03:56.556Z"
   },
   {
    "duration": 294,
    "start_time": "2024-01-06T18:03:56.581Z"
   },
   {
    "duration": 1182,
    "start_time": "2024-01-06T18:13:44.166Z"
   },
   {
    "duration": 2256,
    "start_time": "2024-01-06T18:13:45.350Z"
   },
   {
    "duration": 51,
    "start_time": "2024-01-06T18:13:47.608Z"
   },
   {
    "duration": 11,
    "start_time": "2024-01-06T18:13:47.662Z"
   },
   {
    "duration": 7,
    "start_time": "2024-01-06T18:13:47.674Z"
   },
   {
    "duration": 210,
    "start_time": "2024-01-06T18:13:47.683Z"
   },
   {
    "duration": 2,
    "start_time": "2024-01-06T18:13:47.895Z"
   },
   {
    "duration": 8,
    "start_time": "2024-01-06T18:13:47.899Z"
   },
   {
    "duration": 420,
    "start_time": "2024-01-06T18:13:47.909Z"
   },
   {
    "duration": 31,
    "start_time": "2024-01-06T18:13:48.332Z"
   },
   {
    "duration": 226,
    "start_time": "2024-01-06T18:13:48.366Z"
   },
   {
    "duration": 30,
    "start_time": "2024-01-06T18:13:48.593Z"
   },
   {
    "duration": 422,
    "start_time": "2024-01-06T18:13:48.625Z"
   },
   {
    "duration": 2258,
    "start_time": "2024-01-06T18:13:49.049Z"
   },
   {
    "duration": 255,
    "start_time": "2024-01-06T18:13:51.309Z"
   },
   {
    "duration": 53,
    "start_time": "2024-01-06T18:13:51.565Z"
   },
   {
    "duration": 1374,
    "start_time": "2024-01-06T18:13:51.620Z"
   },
   {
    "duration": 25,
    "start_time": "2024-01-06T18:13:52.996Z"
   },
   {
    "duration": 264,
    "start_time": "2024-01-06T18:13:53.022Z"
   },
   {
    "duration": 1210,
    "start_time": "2024-01-06T18:23:20.167Z"
   },
   {
    "duration": 2107,
    "start_time": "2024-01-06T18:23:21.379Z"
   },
   {
    "duration": 58,
    "start_time": "2024-01-06T18:23:23.488Z"
   },
   {
    "duration": 9,
    "start_time": "2024-01-06T18:23:23.548Z"
   },
   {
    "duration": 13,
    "start_time": "2024-01-06T18:23:23.559Z"
   },
   {
    "duration": 225,
    "start_time": "2024-01-06T18:23:23.574Z"
   },
   {
    "duration": 2,
    "start_time": "2024-01-06T18:23:23.801Z"
   },
   {
    "duration": 19,
    "start_time": "2024-01-06T18:23:23.805Z"
   },
   {
    "duration": 365,
    "start_time": "2024-01-06T18:23:23.826Z"
   },
   {
    "duration": 18,
    "start_time": "2024-01-06T18:23:24.194Z"
   },
   {
    "duration": 222,
    "start_time": "2024-01-06T18:23:24.214Z"
   },
   {
    "duration": 31,
    "start_time": "2024-01-06T18:23:24.437Z"
   },
   {
    "duration": 376,
    "start_time": "2024-01-06T18:23:24.469Z"
   },
   {
    "duration": 2079,
    "start_time": "2024-01-06T18:23:24.847Z"
   },
   {
    "duration": 208,
    "start_time": "2024-01-06T18:23:26.927Z"
   },
   {
    "duration": 44,
    "start_time": "2024-01-06T18:23:27.142Z"
   },
   {
    "duration": 1263,
    "start_time": "2024-01-06T18:23:27.188Z"
   },
   {
    "duration": 21,
    "start_time": "2024-01-06T18:23:28.452Z"
   },
   {
    "duration": 294,
    "start_time": "2024-01-06T18:23:28.474Z"
   },
   {
    "duration": 1246,
    "start_time": "2024-01-06T18:24:00.414Z"
   },
   {
    "duration": 2148,
    "start_time": "2024-01-06T18:24:01.662Z"
   },
   {
    "duration": 45,
    "start_time": "2024-01-06T18:24:03.813Z"
   },
   {
    "duration": 8,
    "start_time": "2024-01-06T18:24:03.860Z"
   },
   {
    "duration": 5,
    "start_time": "2024-01-06T18:24:03.870Z"
   },
   {
    "duration": 200,
    "start_time": "2024-01-06T18:24:03.877Z"
   },
   {
    "duration": 2,
    "start_time": "2024-01-06T18:24:04.079Z"
   },
   {
    "duration": 9,
    "start_time": "2024-01-06T18:24:04.083Z"
   },
   {
    "duration": 371,
    "start_time": "2024-01-06T18:24:04.093Z"
   },
   {
    "duration": 20,
    "start_time": "2024-01-06T18:24:04.466Z"
   },
   {
    "duration": 234,
    "start_time": "2024-01-06T18:24:04.488Z"
   },
   {
    "duration": 37,
    "start_time": "2024-01-06T18:24:04.724Z"
   },
   {
    "duration": 376,
    "start_time": "2024-01-06T18:24:04.763Z"
   },
   {
    "duration": 2104,
    "start_time": "2024-01-06T18:24:05.141Z"
   },
   {
    "duration": 237,
    "start_time": "2024-01-06T18:24:07.246Z"
   },
   {
    "duration": 69,
    "start_time": "2024-01-06T18:24:07.484Z"
   },
   {
    "duration": 1247,
    "start_time": "2024-01-06T18:24:07.554Z"
   },
   {
    "duration": 25,
    "start_time": "2024-01-06T18:24:08.802Z"
   },
   {
    "duration": 276,
    "start_time": "2024-01-06T18:24:08.828Z"
   },
   {
    "duration": 2112,
    "start_time": "2024-01-06T18:33:44.489Z"
   },
   {
    "duration": 2135,
    "start_time": "2024-01-06T18:34:27.226Z"
   },
   {
    "duration": 2113,
    "start_time": "2024-01-06T18:34:35.154Z"
   },
   {
    "duration": 1168,
    "start_time": "2024-01-06T18:53:35.923Z"
   },
   {
    "duration": 2114,
    "start_time": "2024-01-06T18:53:37.092Z"
   },
   {
    "duration": 46,
    "start_time": "2024-01-06T18:53:39.208Z"
   },
   {
    "duration": 9,
    "start_time": "2024-01-06T18:53:39.256Z"
   },
   {
    "duration": 4,
    "start_time": "2024-01-06T18:53:39.266Z"
   },
   {
    "duration": 194,
    "start_time": "2024-01-06T18:53:39.272Z"
   },
   {
    "duration": 3,
    "start_time": "2024-01-06T18:53:39.467Z"
   },
   {
    "duration": 11,
    "start_time": "2024-01-06T18:53:39.471Z"
   },
   {
    "duration": 360,
    "start_time": "2024-01-06T18:53:39.483Z"
   },
   {
    "duration": 19,
    "start_time": "2024-01-06T18:53:39.846Z"
   },
   {
    "duration": 207,
    "start_time": "2024-01-06T18:53:39.867Z"
   },
   {
    "duration": 29,
    "start_time": "2024-01-06T18:53:40.076Z"
   },
   {
    "duration": 361,
    "start_time": "2024-01-06T18:53:40.107Z"
   },
   {
    "duration": 2140,
    "start_time": "2024-01-06T18:53:40.470Z"
   },
   {
    "duration": 1111,
    "start_time": "2024-01-06T18:53:42.611Z"
   },
   {
    "duration": 238,
    "start_time": "2024-01-06T18:53:43.723Z"
   },
   {
    "duration": 81,
    "start_time": "2024-01-06T18:53:43.963Z"
   },
   {
    "duration": 1241,
    "start_time": "2024-01-06T18:53:44.046Z"
   },
   {
    "duration": 30,
    "start_time": "2024-01-06T18:53:45.289Z"
   },
   {
    "duration": 288,
    "start_time": "2024-01-06T18:53:45.321Z"
   },
   {
    "duration": 1161,
    "start_time": "2024-01-06T18:56:41.869Z"
   },
   {
    "duration": 2073,
    "start_time": "2024-01-06T18:56:43.033Z"
   },
   {
    "duration": 44,
    "start_time": "2024-01-06T18:56:45.108Z"
   },
   {
    "duration": 9,
    "start_time": "2024-01-06T18:56:45.154Z"
   },
   {
    "duration": 18,
    "start_time": "2024-01-06T18:56:45.164Z"
   },
   {
    "duration": 204,
    "start_time": "2024-01-06T18:56:45.183Z"
   },
   {
    "duration": 3,
    "start_time": "2024-01-06T18:56:45.389Z"
   },
   {
    "duration": 28,
    "start_time": "2024-01-06T18:56:45.394Z"
   },
   {
    "duration": 410,
    "start_time": "2024-01-06T18:56:45.424Z"
   },
   {
    "duration": 19,
    "start_time": "2024-01-06T18:56:45.836Z"
   },
   {
    "duration": 205,
    "start_time": "2024-01-06T18:56:45.857Z"
   },
   {
    "duration": 28,
    "start_time": "2024-01-06T18:56:46.063Z"
   },
   {
    "duration": 341,
    "start_time": "2024-01-06T18:56:46.093Z"
   },
   {
    "duration": 891,
    "start_time": "2024-01-06T18:56:46.435Z"
   },
   {
    "duration": 2220,
    "start_time": "2024-01-06T18:56:47.328Z"
   },
   {
    "duration": 337,
    "start_time": "2024-01-06T18:56:49.549Z"
   },
   {
    "duration": 67,
    "start_time": "2024-01-06T18:56:49.887Z"
   },
   {
    "duration": 1211,
    "start_time": "2024-01-06T18:56:49.956Z"
   },
   {
    "duration": 39,
    "start_time": "2024-01-06T18:56:51.169Z"
   },
   {
    "duration": 293,
    "start_time": "2024-01-06T18:56:51.210Z"
   },
   {
    "duration": 1249,
    "start_time": "2024-01-06T19:05:06.917Z"
   },
   {
    "duration": 2203,
    "start_time": "2024-01-06T19:05:08.168Z"
   },
   {
    "duration": 48,
    "start_time": "2024-01-06T19:05:10.372Z"
   },
   {
    "duration": 11,
    "start_time": "2024-01-06T19:05:10.423Z"
   },
   {
    "duration": 7,
    "start_time": "2024-01-06T19:05:10.437Z"
   },
   {
    "duration": 209,
    "start_time": "2024-01-06T19:05:10.446Z"
   },
   {
    "duration": 2,
    "start_time": "2024-01-06T19:05:10.657Z"
   },
   {
    "duration": 9,
    "start_time": "2024-01-06T19:05:10.661Z"
   },
   {
    "duration": 419,
    "start_time": "2024-01-06T19:05:10.672Z"
   },
   {
    "duration": 26,
    "start_time": "2024-01-06T19:05:11.094Z"
   },
   {
    "duration": 291,
    "start_time": "2024-01-06T19:05:11.123Z"
   },
   {
    "duration": 46,
    "start_time": "2024-01-06T19:05:11.415Z"
   },
   {
    "duration": 421,
    "start_time": "2024-01-06T19:05:11.462Z"
   },
   {
    "duration": 983,
    "start_time": "2024-01-06T19:05:11.885Z"
   },
   {
    "duration": 247,
    "start_time": "2024-01-06T19:05:12.870Z"
   },
   {
    "duration": 372,
    "start_time": "2024-01-06T19:05:13.119Z"
   },
   {
    "duration": 251,
    "start_time": "2024-01-06T19:05:13.492Z"
   },
   {
    "duration": 246,
    "start_time": "2024-01-06T19:05:13.744Z"
   },
   {
    "duration": 199,
    "start_time": "2024-01-06T19:05:13.991Z"
   },
   {
    "duration": 205,
    "start_time": "2024-01-06T19:05:14.191Z"
   },
   {
    "duration": 332,
    "start_time": "2024-01-06T19:05:14.397Z"
   },
   {
    "duration": 243,
    "start_time": "2024-01-06T19:05:14.730Z"
   },
   {
    "duration": 254,
    "start_time": "2024-01-06T19:05:14.975Z"
   },
   {
    "duration": 246,
    "start_time": "2024-01-06T19:05:15.231Z"
   },
   {
    "duration": 177,
    "start_time": "2024-01-06T19:05:15.479Z"
   },
   {
    "duration": 1251,
    "start_time": "2024-01-06T19:05:15.658Z"
   },
   {
    "duration": 40,
    "start_time": "2024-01-06T19:05:16.911Z"
   },
   {
    "duration": 265,
    "start_time": "2024-01-06T19:05:16.954Z"
   },
   {
    "duration": 1158,
    "start_time": "2024-01-06T19:25:14.810Z"
   },
   {
    "duration": 2064,
    "start_time": "2024-01-06T19:25:15.970Z"
   },
   {
    "duration": 51,
    "start_time": "2024-01-06T19:25:18.036Z"
   },
   {
    "duration": 12,
    "start_time": "2024-01-06T19:25:18.089Z"
   },
   {
    "duration": 6,
    "start_time": "2024-01-06T19:25:18.103Z"
   },
   {
    "duration": 236,
    "start_time": "2024-01-06T19:25:18.111Z"
   },
   {
    "duration": 3,
    "start_time": "2024-01-06T19:25:18.348Z"
   },
   {
    "duration": 11,
    "start_time": "2024-01-06T19:25:18.352Z"
   },
   {
    "duration": 354,
    "start_time": "2024-01-06T19:25:18.365Z"
   },
   {
    "duration": 24,
    "start_time": "2024-01-06T19:25:18.721Z"
   },
   {
    "duration": 217,
    "start_time": "2024-01-06T19:25:18.746Z"
   },
   {
    "duration": 38,
    "start_time": "2024-01-06T19:25:18.966Z"
   },
   {
    "duration": 383,
    "start_time": "2024-01-06T19:25:19.006Z"
   },
   {
    "duration": 913,
    "start_time": "2024-01-06T19:25:19.391Z"
   },
   {
    "duration": 237,
    "start_time": "2024-01-06T19:25:20.305Z"
   },
   {
    "duration": 395,
    "start_time": "2024-01-06T19:25:20.544Z"
   },
   {
    "duration": 242,
    "start_time": "2024-01-06T19:25:20.943Z"
   },
   {
    "duration": 237,
    "start_time": "2024-01-06T19:25:21.187Z"
   },
   {
    "duration": 196,
    "start_time": "2024-01-06T19:25:21.425Z"
   },
   {
    "duration": 231,
    "start_time": "2024-01-06T19:25:21.622Z"
   },
   {
    "duration": 356,
    "start_time": "2024-01-06T19:25:21.855Z"
   },
   {
    "duration": 231,
    "start_time": "2024-01-06T19:25:22.213Z"
   },
   {
    "duration": 235,
    "start_time": "2024-01-06T19:25:22.446Z"
   },
   {
    "duration": 252,
    "start_time": "2024-01-06T19:25:22.683Z"
   },
   {
    "duration": 155,
    "start_time": "2024-01-06T19:25:22.937Z"
   },
   {
    "duration": 1181,
    "start_time": "2024-01-06T19:25:23.094Z"
   },
   {
    "duration": 27,
    "start_time": "2024-01-06T19:25:24.277Z"
   },
   {
    "duration": 303,
    "start_time": "2024-01-06T19:25:24.307Z"
   },
   {
    "duration": 233,
    "start_time": "2024-01-06T19:25:41.855Z"
   },
   {
    "duration": 81,
    "start_time": "2024-01-06T19:44:38.083Z"
   },
   {
    "duration": 1329,
    "start_time": "2024-01-07T12:52:16.775Z"
   },
   {
    "duration": 2403,
    "start_time": "2024-01-07T12:52:18.105Z"
   },
   {
    "duration": 46,
    "start_time": "2024-01-07T12:52:20.510Z"
   },
   {
    "duration": 10,
    "start_time": "2024-01-07T12:52:20.558Z"
   },
   {
    "duration": 25,
    "start_time": "2024-01-07T12:52:20.570Z"
   },
   {
    "duration": 207,
    "start_time": "2024-01-07T12:52:20.597Z"
   },
   {
    "duration": 2,
    "start_time": "2024-01-07T12:52:20.806Z"
   },
   {
    "duration": 15,
    "start_time": "2024-01-07T12:52:20.810Z"
   },
   {
    "duration": 401,
    "start_time": "2024-01-07T12:52:20.827Z"
   },
   {
    "duration": 18,
    "start_time": "2024-01-07T12:52:21.230Z"
   },
   {
    "duration": 228,
    "start_time": "2024-01-07T12:52:21.249Z"
   },
   {
    "duration": 34,
    "start_time": "2024-01-07T12:52:21.481Z"
   },
   {
    "duration": 402,
    "start_time": "2024-01-07T12:52:21.517Z"
   },
   {
    "duration": 926,
    "start_time": "2024-01-07T12:52:21.920Z"
   },
   {
    "duration": 230,
    "start_time": "2024-01-07T12:52:22.848Z"
   },
   {
    "duration": 363,
    "start_time": "2024-01-07T12:52:23.081Z"
   },
   {
    "duration": 229,
    "start_time": "2024-01-07T12:52:23.445Z"
   },
   {
    "duration": 246,
    "start_time": "2024-01-07T12:52:23.676Z"
   },
   {
    "duration": 198,
    "start_time": "2024-01-07T12:52:23.923Z"
   },
   {
    "duration": 203,
    "start_time": "2024-01-07T12:52:24.123Z"
   },
   {
    "duration": 348,
    "start_time": "2024-01-07T12:52:24.328Z"
   },
   {
    "duration": 240,
    "start_time": "2024-01-07T12:52:24.678Z"
   },
   {
    "duration": 242,
    "start_time": "2024-01-07T12:52:24.919Z"
   },
   {
    "duration": 250,
    "start_time": "2024-01-07T12:52:25.163Z"
   },
   {
    "duration": 138,
    "start_time": "2024-01-07T12:52:25.414Z"
   },
   {
    "duration": 1234,
    "start_time": "2024-01-07T12:52:25.553Z"
   },
   {
    "duration": 32,
    "start_time": "2024-01-07T12:52:26.789Z"
   },
   {
    "duration": 282,
    "start_time": "2024-01-07T12:52:26.825Z"
   },
   {
    "duration": 87,
    "start_time": "2024-01-07T12:52:58.608Z"
   }
  ],
  "colab": {
   "provenance": []
  },
  "kernelspec": {
   "display_name": "Python 3 (ipykernel)",
   "language": "python",
   "name": "python3"
  },
  "language_info": {
   "codemirror_mode": {
    "name": "ipython",
    "version": 3
   },
   "file_extension": ".py",
   "mimetype": "text/x-python",
   "name": "python",
   "nbconvert_exporter": "python",
   "pygments_lexer": "ipython3",
   "version": "3.11.9"
  },
  "toc": {
   "base_numbering": 1,
   "nav_menu": {},
   "number_sections": true,
   "sideBar": true,
   "skip_h1_title": true,
   "title_cell": "Table of Contents",
   "title_sidebar": "Contents",
   "toc_cell": false,
   "toc_position": {},
   "toc_section_display": true,
   "toc_window_display": false
  }
 },
 "nbformat": 4,
 "nbformat_minor": 4
}
